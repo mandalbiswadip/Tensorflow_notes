{
 "cells": [
  {
   "cell_type": "markdown",
   "id": "confirmed-hawaiian",
   "metadata": {},
   "source": [
    "Any Deep learning architectures can be written with the help of Keras high level APIs. There Are two separate ways Keras API can be written:\n",
    "    \n",
    "    \n",
    "    1. Sequential Mode\n",
    "    2. Functional API"
   ]
  },
  {
   "cell_type": "markdown",
   "id": "toxic-state",
   "metadata": {},
   "source": [
    "### 1. Sequential Mode\n"
   ]
  },
  {
   "cell_type": "markdown",
   "id": "prerequisite-influence",
   "metadata": {},
   "source": [
    "Here you define a sequence like structure of the Model and keep adding(or add at once) the building blocks(often the layers) to get the Keras Model.\n",
    "This is done with the help of `tensorflow.keras.Sequential` API"
   ]
  },
  {
   "cell_type": "code",
   "execution_count": 2,
   "id": "patent-playlist",
   "metadata": {},
   "outputs": [],
   "source": [
    "import tensorflow as tf\n",
    "from tensorflow import keras\n",
    "from tensorflow.keras import layers"
   ]
  },
  {
   "cell_type": "markdown",
   "id": "twenty-basket",
   "metadata": {},
   "source": [
    "needless to say that the Sequential is inherited from `tf.keras.Model`"
   ]
  },
  {
   "cell_type": "code",
   "execution_count": 4,
   "id": "veterinary-hydrogen",
   "metadata": {},
   "outputs": [
    {
     "data": {
      "text/plain": [
       "True"
      ]
     },
     "execution_count": 4,
     "metadata": {},
     "output_type": "execute_result"
    }
   ],
   "source": [
    "issubclass(keras.Sequential, tf.keras.Model)"
   ]
  },
  {
   "cell_type": "markdown",
   "id": "dietary-empire",
   "metadata": {},
   "source": [
    "You can keep adding layers like this"
   ]
  },
  {
   "cell_type": "code",
   "execution_count": 12,
   "id": "detected-ireland",
   "metadata": {},
   "outputs": [],
   "source": [
    "model = tf.keras.Sequential()"
   ]
  },
  {
   "cell_type": "code",
   "execution_count": 13,
   "id": "embedded-wings",
   "metadata": {},
   "outputs": [],
   "source": [
    "model.add(layer=layers.Dense(10))"
   ]
  },
  {
   "cell_type": "code",
   "execution_count": 14,
   "id": "southern-cattle",
   "metadata": {},
   "outputs": [],
   "source": [
    "model.add(layer=layers.Dense(5))"
   ]
  },
  {
   "cell_type": "code",
   "execution_count": 15,
   "id": "false-moore",
   "metadata": {},
   "outputs": [],
   "source": [
    "model.add(layer=layers.Dense(2, activation = \"softmax\"))"
   ]
  },
  {
   "cell_type": "code",
   "execution_count": 10,
   "id": "forbidden-birthday",
   "metadata": {},
   "outputs": [
    {
     "data": {
      "text/plain": [
       "[<tensorflow.python.keras.layers.core.Dense at 0x7fcccc2fd750>,\n",
       " <tensorflow.python.keras.layers.core.Dense at 0x7fcccc13ef90>,\n",
       " <tensorflow.python.keras.layers.core.Dense at 0x7fcccc2fb250>]"
      ]
     },
     "execution_count": 10,
     "metadata": {},
     "output_type": "execute_result"
    }
   ],
   "source": [
    "model.layers"
   ]
  },
  {
   "cell_type": "markdown",
   "id": "departmental-timer",
   "metadata": {},
   "source": [
    "OR you can add the layers at once"
   ]
  },
  {
   "cell_type": "code",
   "execution_count": 17,
   "id": "restricted-undergraduate",
   "metadata": {},
   "outputs": [],
   "source": [
    "model = tf.keras.Sequential([\n",
    "    layers.Dense(10),\n",
    "    layers.Dense(5),\n",
    "    layers.Dense(2, activation = \"softmax\")\n",
    "\n",
    "])"
   ]
  },
  {
   "cell_type": "markdown",
   "id": "opposite-bottom",
   "metadata": {},
   "source": [
    "you can call `model.summary()` to enquire or verify dimensions of internal layers"
   ]
  },
  {
   "cell_type": "code",
   "execution_count": 18,
   "id": "twenty-supplier",
   "metadata": {},
   "outputs": [
    {
     "ename": "ValueError",
     "evalue": "This model has not yet been built. Build the model first by calling `build()` or calling `fit()` with some data, or specify an `input_shape` argument in the first layer(s) for automatic build.",
     "output_type": "error",
     "traceback": [
      "\u001b[0;31m---------------------------------------------------------------------------\u001b[0m",
      "\u001b[0;31mValueError\u001b[0m                                Traceback (most recent call last)",
      "\u001b[0;32m<ipython-input-18-5f15418b3570>\u001b[0m in \u001b[0;36m<module>\u001b[0;34m\u001b[0m\n\u001b[0;32m----> 1\u001b[0;31m \u001b[0mmodel\u001b[0m\u001b[0;34m.\u001b[0m\u001b[0msummary\u001b[0m\u001b[0;34m(\u001b[0m\u001b[0;34m)\u001b[0m\u001b[0;34m\u001b[0m\u001b[0;34m\u001b[0m\u001b[0m\n\u001b[0m",
      "\u001b[0;32m~/anaconda3/envs/bert_keyword/lib/python3.7/site-packages/tensorflow/python/keras/engine/training.py\u001b[0m in \u001b[0;36msummary\u001b[0;34m(self, line_length, positions, print_fn)\u001b[0m\n\u001b[1;32m   2349\u001b[0m     \"\"\"\n\u001b[1;32m   2350\u001b[0m     \u001b[0;32mif\u001b[0m \u001b[0;32mnot\u001b[0m \u001b[0mself\u001b[0m\u001b[0;34m.\u001b[0m\u001b[0mbuilt\u001b[0m\u001b[0;34m:\u001b[0m\u001b[0;34m\u001b[0m\u001b[0;34m\u001b[0m\u001b[0m\n\u001b[0;32m-> 2351\u001b[0;31m       raise ValueError('This model has not yet been built. '\n\u001b[0m\u001b[1;32m   2352\u001b[0m                        \u001b[0;34m'Build the model first by calling `build()` or calling '\u001b[0m\u001b[0;34m\u001b[0m\u001b[0;34m\u001b[0m\u001b[0m\n\u001b[1;32m   2353\u001b[0m                        \u001b[0;34m'`fit()` with some data, or specify '\u001b[0m\u001b[0;34m\u001b[0m\u001b[0;34m\u001b[0m\u001b[0m\n",
      "\u001b[0;31mValueError\u001b[0m: This model has not yet been built. Build the model first by calling `build()` or calling `fit()` with some data, or specify an `input_shape` argument in the first layer(s) for automatic build."
     ]
    }
   ],
   "source": [
    "model.summary()"
   ]
  },
  {
   "cell_type": "markdown",
   "id": "right-commons",
   "metadata": {},
   "source": [
    "Oops! This is happening because we didn't specify an input dimension and hence the dimensions are still unspecificed. For an example we don't know the dimension of the weights for the first `Dense` layer, we only know dimensions along one axis"
   ]
  },
  {
   "cell_type": "code",
   "execution_count": 21,
   "id": "extreme-newton",
   "metadata": {},
   "outputs": [],
   "source": [
    "model = tf.keras.Sequential([\n",
    "    keras.Input(shape=[None, 5]),\n",
    "    layers.Dense(10),\n",
    "    layers.Dense(5),\n",
    "    layers.Dense(2, activation = \"softmax\")\n",
    "\n",
    "])"
   ]
  },
  {
   "cell_type": "code",
   "execution_count": 22,
   "id": "conservative-praise",
   "metadata": {},
   "outputs": [
    {
     "name": "stdout",
     "output_type": "stream",
     "text": [
      "Model: \"sequential_4\"\n",
      "_________________________________________________________________\n",
      "Layer (type)                 Output Shape              Param #   \n",
      "=================================================================\n",
      "dense_13 (Dense)             (None, None, 10)          60        \n",
      "_________________________________________________________________\n",
      "dense_14 (Dense)             (None, None, 5)           55        \n",
      "_________________________________________________________________\n",
      "dense_15 (Dense)             (None, None, 2)           12        \n",
      "=================================================================\n",
      "Total params: 127\n",
      "Trainable params: 127\n",
      "Non-trainable params: 0\n",
      "_________________________________________________________________\n"
     ]
    }
   ],
   "source": [
    "model.summary()"
   ]
  },
  {
   "cell_type": "markdown",
   "id": "phantom-implement",
   "metadata": {},
   "source": [
    "You can keep adding layers if you like. This is now mixture of defining few layers at once and keep adding the layers using `add()`"
   ]
  },
  {
   "cell_type": "code",
   "execution_count": 23,
   "id": "fixed-basin",
   "metadata": {},
   "outputs": [],
   "source": [
    "model.add(layers.Dense(1))"
   ]
  },
  {
   "cell_type": "code",
   "execution_count": 24,
   "id": "touched-christianity",
   "metadata": {},
   "outputs": [
    {
     "name": "stdout",
     "output_type": "stream",
     "text": [
      "Model: \"sequential_4\"\n",
      "_________________________________________________________________\n",
      "Layer (type)                 Output Shape              Param #   \n",
      "=================================================================\n",
      "dense_13 (Dense)             (None, None, 10)          60        \n",
      "_________________________________________________________________\n",
      "dense_14 (Dense)             (None, None, 5)           55        \n",
      "_________________________________________________________________\n",
      "dense_15 (Dense)             (None, None, 2)           12        \n",
      "_________________________________________________________________\n",
      "dense_16 (Dense)             (None, None, 1)           3         \n",
      "=================================================================\n",
      "Total params: 130\n",
      "Trainable params: 130\n",
      "Non-trainable params: 0\n",
      "_________________________________________________________________\n"
     ]
    }
   ],
   "source": [
    "model.summary()"
   ]
  },
  {
   "cell_type": "markdown",
   "id": "preliminary-soccer",
   "metadata": {},
   "source": [
    "This is not ideal for multiple inputs to the layers. If you want more flexibility on the number of input and output, it's better to use the Functional API"
   ]
  },
  {
   "cell_type": "markdown",
   "id": "shaped-episode",
   "metadata": {},
   "source": [
    "### 2. Functional API"
   ]
  },
  {
   "cell_type": "markdown",
   "id": "geological-kidney",
   "metadata": {},
   "source": [
    "Functional API as the name suggests uses the function call of the layers with inputs and produces the ouputs. As already discussed any Keras layer is callable and we do exactly that in the Functional API"
   ]
  },
  {
   "cell_type": "markdown",
   "id": "pleasant-thousand",
   "metadata": {},
   "source": [
    "The above architecture can be written using Functional API as following:"
   ]
  },
  {
   "cell_type": "code",
   "execution_count": 26,
   "id": "august-weekend",
   "metadata": {},
   "outputs": [],
   "source": [
    "inputs = keras.Input(shape=(784,))\n",
    "h1 = layers.Dense(10)(inputs)\n",
    "h2 = layers.Dense(5)(h1)\n",
    "h3 = layers.Dense(2, activation = \"softmax\")(h2)"
   ]
  },
  {
   "cell_type": "markdown",
   "id": "prepared-editing",
   "metadata": {},
   "source": [
    "A Keras model can be built as following:"
   ]
  },
  {
   "cell_type": "code",
   "execution_count": 28,
   "id": "republican-indication",
   "metadata": {},
   "outputs": [],
   "source": [
    "model = tf.keras.Model(inputs = inputs, outputs = h3)"
   ]
  },
  {
   "cell_type": "code",
   "execution_count": 29,
   "id": "limited-dayton",
   "metadata": {},
   "outputs": [
    {
     "name": "stdout",
     "output_type": "stream",
     "text": [
      "Model: \"functional_3\"\n",
      "_________________________________________________________________\n",
      "Layer (type)                 Output Shape              Param #   \n",
      "=================================================================\n",
      "input_2 (InputLayer)         [(None, 784)]             0         \n",
      "_________________________________________________________________\n",
      "dense_17 (Dense)             (None, 10)                7850      \n",
      "_________________________________________________________________\n",
      "dense_18 (Dense)             (None, 5)                 55        \n",
      "_________________________________________________________________\n",
      "dense_19 (Dense)             (None, 2)                 12        \n",
      "=================================================================\n",
      "Total params: 7,917\n",
      "Trainable params: 7,917\n",
      "Non-trainable params: 0\n",
      "_________________________________________________________________\n"
     ]
    }
   ],
   "source": [
    "model.summary()"
   ]
  },
  {
   "cell_type": "markdown",
   "id": "accompanied-identity",
   "metadata": {},
   "source": [
    "The Model can be plotted as following:"
   ]
  },
  {
   "cell_type": "code",
   "execution_count": 35,
   "id": "unlimited-alcohol",
   "metadata": {},
   "outputs": [
    {
     "name": "stdout",
     "output_type": "stream",
     "text": [
      "('Failed to import pydot. You must `pip install pydot` and install graphviz (https://graphviz.gitlab.io/download/), ', 'for `pydotprint` to work.')\n"
     ]
    }
   ],
   "source": [
    "keras.utils.plot_model(model, \"model.png\")"
   ]
  },
  {
   "cell_type": "markdown",
   "id": "danish-operator",
   "metadata": {},
   "source": [
    "The models can be further trained and evaluated using `model.compile` and `model.fit`"
   ]
  }
 ],
 "metadata": {
  "kernelspec": {
   "display_name": "bert_keyword",
   "language": "python",
   "name": "bert_keyword"
  },
  "language_info": {
   "codemirror_mode": {
    "name": "ipython",
    "version": 3
   },
   "file_extension": ".py",
   "mimetype": "text/x-python",
   "name": "python",
   "nbconvert_exporter": "python",
   "pygments_lexer": "ipython3",
   "version": "3.7.9"
  }
 },
 "nbformat": 4,
 "nbformat_minor": 5
}
