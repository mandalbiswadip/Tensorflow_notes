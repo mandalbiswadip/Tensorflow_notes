{
 "cells": [
  {
   "cell_type": "markdown",
   "id": "modern-location",
   "metadata": {},
   "source": [
    "Tensorflow offers efficient APIs to preprocess data"
   ]
  },
  {
   "cell_type": "code",
   "execution_count": 43,
   "id": "agricultural-promotion",
   "metadata": {},
   "outputs": [],
   "source": [
    "import tensorflow as tf\n",
    "import numpy as np"
   ]
  },
  {
   "cell_type": "markdown",
   "id": "wanted-quantity",
   "metadata": {},
   "source": [
    "## All preprocessing layers\n",
    "`['CategoryCrossing',\n",
    " 'CategoryEncoding',\n",
    " 'CenterCrop',\n",
    " 'Discretization',\n",
    " 'Hashing',\n",
    " 'IntegerLookup',\n",
    " 'Normalization',\n",
    " 'PreprocessingLayer',\n",
    " 'RandomContrast',\n",
    " 'RandomCrop',\n",
    " 'RandomFlip',\n",
    " 'RandomHeight',\n",
    " 'RandomRotation',\n",
    " 'RandomTranslation',\n",
    " 'RandomWidth',\n",
    " 'RandomZoom',\n",
    " 'Rescaling',\n",
    " 'Resizing',\n",
    " 'StringLookup',\n",
    " 'TextVectorization']`"
   ]
  },
  {
   "cell_type": "markdown",
   "id": "detailed-repeat",
   "metadata": {},
   "source": [
    "All are keras Layers"
   ]
  },
  {
   "cell_type": "code",
   "execution_count": 11,
   "id": "multiple-witness",
   "metadata": {},
   "outputs": [
    {
     "data": {
      "text/plain": [
       "True"
      ]
     },
     "execution_count": 11,
     "metadata": {},
     "output_type": "execute_result"
    }
   ],
   "source": [
    "issubclass(tf.keras.layers.experimental.preprocessing.TextVectorization, tf.keras.layers.Layer)"
   ]
  },
  {
   "cell_type": "markdown",
   "id": "dressed-termination",
   "metadata": {},
   "source": [
    "### NLP preprocessing"
   ]
  },
  {
   "cell_type": "markdown",
   "id": "facial-double",
   "metadata": {},
   "source": [
    "#### TextVectorization"
   ]
  },
  {
   "cell_type": "markdown",
   "id": "dietary-bernard",
   "metadata": {},
   "source": [
    "Convert text to vectors."
   ]
  },
  {
   "cell_type": "code",
   "execution_count": 51,
   "id": "artistic-insulation",
   "metadata": {},
   "outputs": [],
   "source": [
    "text_vectorizer = tf.keras.layers.experimental.preprocessing.TextVectorization(standardize=None)"
   ]
  },
  {
   "cell_type": "markdown",
   "id": "christian-portal",
   "metadata": {},
   "source": [
    "standardize options `None`, `lower_and_strip_punctuation`, or a `Callable`"
   ]
  },
  {
   "cell_type": "code",
   "execution_count": 52,
   "id": "hollow-commons",
   "metadata": {},
   "outputs": [],
   "source": [
    "text_vectorizer.adapt([\"I am going to the gym today\", \"They had a bady\", \"i Am going\"])"
   ]
  },
  {
   "cell_type": "code",
   "execution_count": 53,
   "id": "talented-application",
   "metadata": {},
   "outputs": [
    {
     "data": {
      "text/plain": [
       "<tf.Tensor: shape=(1, 3), dtype=int64, numpy=array([[13, 10,  2]])>"
      ]
     },
     "execution_count": 53,
     "metadata": {},
     "output_type": "execute_result"
    }
   ],
   "source": [
    "text_vectorizer([\"I am going\"])"
   ]
  },
  {
   "cell_type": "code",
   "execution_count": 54,
   "id": "medieval-hybrid",
   "metadata": {},
   "outputs": [
    {
     "data": {
      "text/plain": [
       "<tf.Tensor: shape=(1, 3), dtype=int64, numpy=array([[ 6, 14,  2]])>"
      ]
     },
     "execution_count": 54,
     "metadata": {},
     "output_type": "execute_result"
    }
   ],
   "source": [
    "text_vectorizer([\"i Am going\"])"
   ]
  },
  {
   "cell_type": "code",
   "execution_count": 55,
   "id": "institutional-communication",
   "metadata": {},
   "outputs": [
    {
     "data": {
      "text/plain": [
       "<tf.Tensor: shape=(1, 3), dtype=int64, numpy=array([[ 1, 10,  2]])>"
      ]
     },
     "execution_count": 55,
     "metadata": {},
     "output_type": "execute_result"
    }
   ],
   "source": [
    "text_vectorizer([\"She am going\"])"
   ]
  },
  {
   "cell_type": "code",
   "execution_count": 56,
   "id": "alert-finger",
   "metadata": {},
   "outputs": [
    {
     "data": {
      "text/plain": [
       "['',\n",
       " '[UNK]',\n",
       " 'going',\n",
       " 'today',\n",
       " 'to',\n",
       " 'the',\n",
       " 'i',\n",
       " 'had',\n",
       " 'gym',\n",
       " 'bady',\n",
       " 'am',\n",
       " 'a',\n",
       " 'They',\n",
       " 'I',\n",
       " 'Am']"
      ]
     },
     "execution_count": 56,
     "metadata": {},
     "output_type": "execute_result"
    }
   ],
   "source": [
    "text_vectorizer.get_vocabulary()"
   ]
  },
  {
   "cell_type": "markdown",
   "id": "impressed-stake",
   "metadata": {},
   "source": [
    "### Normalization"
   ]
  },
  {
   "cell_type": "markdown",
   "id": "injured-internet",
   "metadata": {},
   "source": [
    "This layer normalizes the input feature-wise. You can pass some data in `adapt` on which the mean and variance will be calculated or you can pass the mean and variance youtself as an argument"
   ]
  },
  {
   "cell_type": "code",
   "execution_count": 57,
   "id": "amazing-routine",
   "metadata": {},
   "outputs": [],
   "source": [
    "normalization = tf.keras.layers.experimental.preprocessing.Normalization()"
   ]
  },
  {
   "cell_type": "code",
   "execution_count": 58,
   "id": "elementary-cincinnati",
   "metadata": {},
   "outputs": [],
   "source": [
    "normalization.adapt(np.array([[1., -1], [2., 0], [3., 1]], np.float32))"
   ]
  },
  {
   "cell_type": "code",
   "execution_count": 59,
   "id": "charming-province",
   "metadata": {},
   "outputs": [
    {
     "data": {
      "text/plain": [
       "<tf.Tensor: shape=(3, 2), dtype=float32, numpy=\n",
       "array([[-1.2247448, -1.2247448],\n",
       "       [ 0.       ,  0.       ],\n",
       "       [ 1.2247448,  1.2247448]], dtype=float32)>"
      ]
     },
     "execution_count": 59,
     "metadata": {},
     "output_type": "execute_result"
    }
   ],
   "source": [
    "normalization(np.array([[1., -1], [2., 0], [3., 1]], np.float32))"
   ]
  },
  {
   "cell_type": "markdown",
   "id": "designed-disaster",
   "metadata": {},
   "source": [
    "Other important Layers are"
   ]
  },
  {
   "cell_type": "markdown",
   "id": "champion-green",
   "metadata": {},
   "source": [
    "`StringLookup` - Maps strings from a vocabulary to integer indices. This is similar to `TextVectorization`"
   ]
  },
  {
   "cell_type": "code",
   "execution_count": null,
   "id": "reduced-channel",
   "metadata": {},
   "outputs": [],
   "source": [
    "Tensorflow also offers a bunch of image preprocessing and image augumentation layer. The latest ones are available in the T"
   ]
  }
 ],
 "metadata": {
  "kernelspec": {
   "display_name": "bert_keyword",
   "language": "python",
   "name": "bert_keyword"
  },
  "language_info": {
   "codemirror_mode": {
    "name": "ipython",
    "version": 3
   },
   "file_extension": ".py",
   "mimetype": "text/x-python",
   "name": "python",
   "nbconvert_exporter": "python",
   "pygments_lexer": "ipython3",
   "version": "3.7.9"
  }
 },
 "nbformat": 4,
 "nbformat_minor": 5
}
