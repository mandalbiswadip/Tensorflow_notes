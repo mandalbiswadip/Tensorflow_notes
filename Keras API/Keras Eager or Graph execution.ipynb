{
 "cells": [
  {
   "cell_type": "markdown",
   "id": "roman-rocket",
   "metadata": {},
   "source": [
    "We have come acroos different modes of tensorflow i.e. - 1. `Eager mode` 2. `Graph execution with tf.function`"
   ]
  },
  {
   "cell_type": "markdown",
   "id": "short-particular",
   "metadata": {},
   "source": [
    "Now that we are moving to Keras API with less access to tensorflow low level operations, we need to dig a little deeper to understand if Keras is operating in Eager mode or Graph mode"
   ]
  },
  {
   "cell_type": "code",
   "execution_count": null,
   "id": "norwegian-wages",
   "metadata": {},
   "outputs": [],
   "source": []
  }
 ],
 "metadata": {
  "kernelspec": {
   "display_name": "bert_keyword",
   "language": "python",
   "name": "bert_keyword"
  },
  "language_info": {
   "codemirror_mode": {
    "name": "ipython",
    "version": 3
   },
   "file_extension": ".py",
   "mimetype": "text/x-python",
   "name": "python",
   "nbconvert_exporter": "python",
   "pygments_lexer": "ipython3",
   "version": "3.7.9"
  }
 },
 "nbformat": 4,
 "nbformat_minor": 5
}
