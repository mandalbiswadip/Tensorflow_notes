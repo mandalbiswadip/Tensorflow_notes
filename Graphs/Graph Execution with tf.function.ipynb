{
 "cells": [
  {
   "cell_type": "markdown",
   "id": "circular-missile",
   "metadata": {},
   "source": [
    "## Graph Execution in Tensorflow"
   ]
  },
  {
   "cell_type": "markdown",
   "id": "rotary-turkish",
   "metadata": {},
   "source": [
    "We are using `eager execution` by default in tensorflow 2.0"
   ]
  },
  {
   "cell_type": "markdown",
   "id": "stretch-resort",
   "metadata": {},
   "source": [
    "Tensorflow can also be run in `Graph` mode where operations are run entirely run in `Tensorflow Graphs`. \n",
    "\n",
    "Graphs are data `structures` which contains the `tf.Operation` objects in nodes and 'tf.Tensor' objects in edges. Since they are not python data structures, they can be saved, restored and run without python being present"
   ]
  },
  {
   "cell_type": "markdown",
   "id": "blind-virtue",
   "metadata": {},
   "source": [
    "**What is `tf.function`?**"
   ]
  },
  {
   "cell_type": "markdown",
   "id": "appreciated-dominant",
   "metadata": {},
   "source": [
    "`tf.function` is the bridge between normal eager execution and graph execution. How does it do that --> It uses something called `AutoGraph`"
   ]
  },
  {
   "cell_type": "markdown",
   "id": "diagnostic-engineering",
   "metadata": {},
   "source": [
    "**What is AutoGraph?**"
   ]
  },
  {
   "cell_type": "code",
   "execution_count": 24,
   "id": "numerous-biodiversity",
   "metadata": {},
   "outputs": [],
   "source": [
    "import tensorflow as tf\n",
    "import numpy as np"
   ]
  },
  {
   "cell_type": "code",
   "execution_count": null,
   "id": "ahead-consideration",
   "metadata": {},
   "outputs": [],
   "source": []
  },
  {
   "cell_type": "markdown",
   "id": "mighty-climate",
   "metadata": {},
   "source": [
    "### Converting python functions to tensorflow graphs"
   ]
  },
  {
   "cell_type": "markdown",
   "id": "generic-truck",
   "metadata": {},
   "source": [
    "The normal python code can be converted to a `Function` using the `tf.function` decorator offered by tensorflow"
   ]
  },
  {
   "cell_type": "code",
   "execution_count": 228,
   "id": "manual-scoop",
   "metadata": {},
   "outputs": [],
   "source": [
    "def add(x,y):\n",
    "    print(\"adding\")\n",
    "    result = tf.add(x,y)\n",
    "    return result"
   ]
  },
  {
   "cell_type": "code",
   "execution_count": 229,
   "id": "dressed-print",
   "metadata": {},
   "outputs": [],
   "source": [
    "a = tf.random.uniform((10,10))"
   ]
  },
  {
   "cell_type": "code",
   "execution_count": 231,
   "id": "strange-evaluation",
   "metadata": {},
   "outputs": [],
   "source": [
    "b = tf.random.uniform((10,10))"
   ]
  },
  {
   "cell_type": "markdown",
   "id": "helpful-reader",
   "metadata": {},
   "source": [
    "`add` is a python function"
   ]
  },
  {
   "cell_type": "code",
   "execution_count": 238,
   "id": "backed-attraction",
   "metadata": {},
   "outputs": [
    {
     "data": {
      "text/plain": [
       "<function __main__.add(x, y)>"
      ]
     },
     "execution_count": 238,
     "metadata": {},
     "output_type": "execute_result"
    }
   ],
   "source": [
    "add"
   ]
  },
  {
   "cell_type": "code",
   "execution_count": 241,
   "id": "stunning-syndicate",
   "metadata": {},
   "outputs": [],
   "source": [
    "@tf.function\n",
    "def add(x,y):\n",
    "    print(\"adding\")\n",
    "    result = tf.add(x,y)\n",
    "    return result"
   ]
  },
  {
   "cell_type": "code",
   "execution_count": 242,
   "id": "comparative-boards",
   "metadata": {},
   "outputs": [
    {
     "data": {
      "text/plain": [
       "<tensorflow.python.eager.def_function.Function at 0x7f6c5c749c90>"
      ]
     },
     "execution_count": 242,
     "metadata": {},
     "output_type": "execute_result"
    }
   ],
   "source": [
    "add"
   ]
  },
  {
   "cell_type": "markdown",
   "id": "southwest-modeling",
   "metadata": {},
   "source": [
    "Notice that the type of `add` has changed to `Function`"
   ]
  },
  {
   "cell_type": "code",
   "execution_count": 243,
   "id": "isolated-italian",
   "metadata": {},
   "outputs": [
    {
     "name": "stdout",
     "output_type": "stream",
     "text": [
      "adding\n"
     ]
    }
   ],
   "source": [
    "for x in range(5):\n",
    "    _ = add(a,b)"
   ]
  },
  {
   "cell_type": "markdown",
   "id": "normal-leadership",
   "metadata": {},
   "source": [
    "Notice that even the though we called the graph function 5 times, it only printed `adding` once. This is due to `Tracing`\n",
    "\n",
    "\n",
    "**Tracing**<br>\n",
    "When the graph is defined the operation inside is recored and embedded into the graph. Tracing ignores operations like python print function as they are not very important. Unless you change the input data type, the `Tracing` is done only once and while calling the function the graph simply runs the saved operations as opposed normal python function where it execute the whole function line by line"
   ]
  },
  {
   "cell_type": "markdown",
   "id": "hawaiian-mirror",
   "metadata": {},
   "source": [
    "Note that a 'Function' can be excuted in the eager mode by chancging the default mode by doing the following:"
   ]
  },
  {
   "cell_type": "code",
   "execution_count": 245,
   "id": "arbitrary-receptor",
   "metadata": {},
   "outputs": [],
   "source": [
    "tf.config.run_functions_eagerly(False)"
   ]
  },
  {
   "cell_type": "markdown",
   "id": "figured-quantum",
   "metadata": {},
   "source": [
    "### Speed Up"
   ]
  },
  {
   "cell_type": "code",
   "execution_count": 212,
   "id": "upper-volume",
   "metadata": {},
   "outputs": [],
   "source": [
    "@tf.function\n",
    "def power(x, y):\n",
    "  result = tf.eye(10, dtype=tf.dtypes.int32)\n",
    "  for _ in range(y):\n",
    "    result = tf.matmul(x, result)\n",
    "  return result"
   ]
  },
  {
   "cell_type": "code",
   "execution_count": 213,
   "id": "mounted-vampire",
   "metadata": {},
   "outputs": [],
   "source": [
    "x = tf.random.uniform(shape=[10, 10], minval=-1, maxval=2, dtype=tf.dtypes.int32)"
   ]
  },
  {
   "cell_type": "markdown",
   "id": "structural-parish",
   "metadata": {},
   "source": [
    "### Running in Graph Mode"
   ]
  },
  {
   "cell_type": "code",
   "execution_count": 214,
   "id": "partial-miami",
   "metadata": {},
   "outputs": [
    {
     "name": "stdout",
     "output_type": "stream",
     "text": [
      "291 µs ± 44.4 µs per loop (mean ± std. dev. of 7 runs, 1000 loops each)\n"
     ]
    }
   ],
   "source": [
    "%timeit -n 1000 power(x, 100)"
   ]
  },
  {
   "cell_type": "markdown",
   "id": "cooked-crown",
   "metadata": {},
   "source": [
    "### Running in `Eager` mode"
   ]
  },
  {
   "cell_type": "code",
   "execution_count": 215,
   "id": "painful-pixel",
   "metadata": {},
   "outputs": [],
   "source": [
    "tf.config.run_functions_eagerly(True)"
   ]
  },
  {
   "cell_type": "code",
   "execution_count": 216,
   "id": "hidden-facility",
   "metadata": {},
   "outputs": [
    {
     "name": "stdout",
     "output_type": "stream",
     "text": [
      "1.62 ms ± 1.19 µs per loop (mean ± std. dev. of 7 runs, 1000 loops each)\n"
     ]
    }
   ],
   "source": [
    "%timeit -n 1000 power(x, 100)"
   ]
  },
  {
   "cell_type": "markdown",
   "id": "wooden-attempt",
   "metadata": {},
   "source": [
    "The graph execution is about `5x` faster in this case. Note that this is not a generalized benchmark. The actual speed-up depends on the functions you use. \n",
    "\n",
    "\n",
    "The graph creating process takes some time and that adds up to the execution time. This is a one time process and the loss in time is compensated by performance boost for repeated execution of the function. \n",
    "\n",
    "This can also end up making the first few step of training loop more faster than eager execution, but eventually the whole training is much faster."
   ]
  },
  {
   "cell_type": "markdown",
   "id": "western-compact",
   "metadata": {},
   "source": [
    "### things to keep in mind while using `tf.function` using "
   ]
  },
  {
   "cell_type": "markdown",
   "id": "cooperative-illness",
   "metadata": {},
   "source": [
    "1. Include as much operations you can under the `tf.function` hood\n",
    "2. Pass tensorflow datatypes as inputs such as `tf.Tensor` or `tf.Variable`"
   ]
  },
  {
   "cell_type": "markdown",
   "id": "global-oxford",
   "metadata": {},
   "source": [
    "#### As this is an important topic, more example providing things to do or avoid needs to be included"
   ]
  },
  {
   "cell_type": "markdown",
   "id": "rising-immigration",
   "metadata": {},
   "source": [
    "### Does Keras training happen in graphs?\n",
    "\n",
    "Yes. By default keras models are run in graph mode. They do it by wrapping their training steps under the `tf.function` hood\n",
    "\n",
    "Have a look the following code to check how they exactly implement it\n",
    "\n",
    "`https://github.com/tensorflow/tensorflow/blob/master/tensorflow/python/keras/engine/training.py#L863`"
   ]
  },
  {
   "cell_type": "markdown",
   "id": "dynamic-consideration",
   "metadata": {},
   "source": [
    "Note: Tensorflow offers a function to convert any function to `tf.Function`"
   ]
  },
  {
   "cell_type": "markdown",
   "id": "least-chance",
   "metadata": {},
   "source": [
    "`tf.python.eager.def_function.function` and it's exposed as `tf.function` callable publically."
   ]
  },
  {
   "cell_type": "code",
   "execution_count": 2,
   "id": "accomplished-clothing",
   "metadata": {},
   "outputs": [
    {
     "data": {
      "text/plain": [
       "True"
      ]
     },
     "execution_count": 2,
     "metadata": {},
     "output_type": "execute_result"
    }
   ],
   "source": [
    "tf.python.eager.def_function.function==tf.function"
   ]
  },
  {
   "cell_type": "code",
   "execution_count": null,
   "id": "original-alexander",
   "metadata": {},
   "outputs": [],
   "source": []
  }
 ],
 "metadata": {
  "kernelspec": {
   "display_name": "bert_keyword",
   "language": "python",
   "name": "bert_keyword"
  },
  "language_info": {
   "codemirror_mode": {
    "name": "ipython",
    "version": 3
   },
   "file_extension": ".py",
   "mimetype": "text/x-python",
   "name": "python",
   "nbconvert_exporter": "python",
   "pygments_lexer": "ipython3",
   "version": "3.7.9"
  }
 },
 "nbformat": 4,
 "nbformat_minor": 5
}
