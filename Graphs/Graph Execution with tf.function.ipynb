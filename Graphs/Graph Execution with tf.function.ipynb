{
 "cells": [
  {
   "cell_type": "markdown",
   "id": "portable-terrain",
   "metadata": {},
   "source": [
    "## Graph Execution in Tensorflow"
   ]
  },
  {
   "cell_type": "markdown",
   "id": "irish-samoa",
   "metadata": {},
   "source": [
    "We are using `eager execution` by default in tensorflow 2.0"
   ]
  },
  {
   "cell_type": "markdown",
   "id": "nuclear-muscle",
   "metadata": {},
   "source": [
    "Tensorflow can also be run in `Graph` mode where operations are run entirely run in `Tensorflow Graphs`. \n",
    "\n",
    "Graphs are data `structures` which contains the `tf.Operation` objects in nodes and 'tf.Tensor' objects in edges. Since they are not python data structures, they can be saved, restored and run without python being present"
   ]
  },
  {
   "cell_type": "markdown",
   "id": "dominant-telephone",
   "metadata": {},
   "source": [
    "**What is `tf.function`?**"
   ]
  },
  {
   "cell_type": "markdown",
   "id": "difficult-lexington",
   "metadata": {},
   "source": [
    "`tf.function` is the bridge between normal eager execution and graph execution. How does it do that --> It uses something called `AutoGraph`"
   ]
  },
  {
   "cell_type": "markdown",
   "id": "retained-munich",
   "metadata": {},
   "source": [
    "**What is AutoGraph?**"
   ]
  },
  {
   "cell_type": "code",
   "execution_count": 24,
   "id": "closing-chosen",
   "metadata": {},
   "outputs": [],
   "source": [
    "import tensorflow as tf\n",
    "import numpy as np"
   ]
  },
  {
   "cell_type": "code",
   "execution_count": null,
   "id": "cognitive-arbitration",
   "metadata": {},
   "outputs": [],
   "source": []
  },
  {
   "cell_type": "markdown",
   "id": "executed-myanmar",
   "metadata": {},
   "source": [
    "### Converting python functions to tensorflow graphs"
   ]
  },
  {
   "cell_type": "markdown",
   "id": "virtual-permit",
   "metadata": {},
   "source": [
    "The normal python code can be converted to a `Function` using the `tf.function` decorator offered by tensorflow"
   ]
  },
  {
   "cell_type": "code",
   "execution_count": 228,
   "id": "informal-richards",
   "metadata": {},
   "outputs": [],
   "source": [
    "def add(x,y):\n",
    "    print(\"adding\")\n",
    "    result = tf.add(x,y)\n",
    "    return result"
   ]
  },
  {
   "cell_type": "code",
   "execution_count": 229,
   "id": "planned-repository",
   "metadata": {},
   "outputs": [],
   "source": [
    "a = tf.random.uniform((10,10))"
   ]
  },
  {
   "cell_type": "code",
   "execution_count": 231,
   "id": "backed-carry",
   "metadata": {},
   "outputs": [],
   "source": [
    "b = tf.random.uniform((10,10))"
   ]
  },
  {
   "cell_type": "markdown",
   "id": "veterinary-milton",
   "metadata": {},
   "source": [
    "`add` is a python function"
   ]
  },
  {
   "cell_type": "code",
   "execution_count": 238,
   "id": "latest-scott",
   "metadata": {},
   "outputs": [
    {
     "data": {
      "text/plain": [
       "<function __main__.add(x, y)>"
      ]
     },
     "execution_count": 238,
     "metadata": {},
     "output_type": "execute_result"
    }
   ],
   "source": [
    "add"
   ]
  },
  {
   "cell_type": "code",
   "execution_count": 241,
   "id": "rocky-tablet",
   "metadata": {},
   "outputs": [],
   "source": [
    "@tf.function\n",
    "def add(x,y):\n",
    "    print(\"adding\")\n",
    "    result = tf.add(x,y)\n",
    "    return result"
   ]
  },
  {
   "cell_type": "code",
   "execution_count": 242,
   "id": "balanced-awareness",
   "metadata": {},
   "outputs": [
    {
     "data": {
      "text/plain": [
       "<tensorflow.python.eager.def_function.Function at 0x7f6c5c749c90>"
      ]
     },
     "execution_count": 242,
     "metadata": {},
     "output_type": "execute_result"
    }
   ],
   "source": [
    "add"
   ]
  },
  {
   "cell_type": "markdown",
   "id": "united-midwest",
   "metadata": {},
   "source": [
    "Notice that the type of `add` has changed to `Function`"
   ]
  },
  {
   "cell_type": "code",
   "execution_count": 243,
   "id": "devoted-swimming",
   "metadata": {},
   "outputs": [
    {
     "name": "stdout",
     "output_type": "stream",
     "text": [
      "adding\n"
     ]
    }
   ],
   "source": [
    "for x in range(5):\n",
    "    _ = add(a,b)"
   ]
  },
  {
   "cell_type": "markdown",
   "id": "promotional-journalism",
   "metadata": {},
   "source": [
    "Notice that even the though we called the graph function 5 times, it only printed `adding` once. This is due to `Tracing`\n",
    "\n",
    "\n",
    "**Tracing**<br>\n",
    "When the graph is defined the operation inside is recored and embedded into the graph. Tracing ignores operations like python print function as they are not very important. Unless you change the input data type, the `Tracing` is done only once and while calling the function the graph simply runs the saved operations as opposed normal python function where it execute the whole function line by line"
   ]
  },
  {
   "cell_type": "markdown",
   "id": "smooth-equilibrium",
   "metadata": {},
   "source": [
    "Note that a 'Function' can be excuted in the eager mode by chancging the default mode by doing the following:"
   ]
  },
  {
   "cell_type": "code",
   "execution_count": 245,
   "id": "appropriate-engineering",
   "metadata": {},
   "outputs": [],
   "source": [
    "tf.config.run_functions_eagerly(False)"
   ]
  },
  {
   "cell_type": "markdown",
   "id": "demanding-survivor",
   "metadata": {},
   "source": [
    "### Speed Up"
   ]
  },
  {
   "cell_type": "code",
   "execution_count": 212,
   "id": "applied-second",
   "metadata": {},
   "outputs": [],
   "source": [
    "@tf.function\n",
    "def power(x, y):\n",
    "  result = tf.eye(10, dtype=tf.dtypes.int32)\n",
    "  for _ in range(y):\n",
    "    result = tf.matmul(x, result)\n",
    "  return result"
   ]
  },
  {
   "cell_type": "code",
   "execution_count": 213,
   "id": "italic-forwarding",
   "metadata": {},
   "outputs": [],
   "source": [
    "x = tf.random.uniform(shape=[10, 10], minval=-1, maxval=2, dtype=tf.dtypes.int32)"
   ]
  },
  {
   "cell_type": "markdown",
   "id": "accredited-petroleum",
   "metadata": {},
   "source": [
    "### Running in Graph Mode"
   ]
  },
  {
   "cell_type": "code",
   "execution_count": 214,
   "id": "fatal-raising",
   "metadata": {},
   "outputs": [
    {
     "name": "stdout",
     "output_type": "stream",
     "text": [
      "291 µs ± 44.4 µs per loop (mean ± std. dev. of 7 runs, 1000 loops each)\n"
     ]
    }
   ],
   "source": [
    "%timeit -n 1000 power(x, 100)"
   ]
  },
  {
   "cell_type": "markdown",
   "id": "compatible-october",
   "metadata": {},
   "source": [
    "### Running in `Eager` mode"
   ]
  },
  {
   "cell_type": "code",
   "execution_count": 215,
   "id": "solved-planet",
   "metadata": {},
   "outputs": [],
   "source": [
    "tf.config.run_functions_eagerly(True)"
   ]
  },
  {
   "cell_type": "code",
   "execution_count": 216,
   "id": "funny-steering",
   "metadata": {},
   "outputs": [
    {
     "name": "stdout",
     "output_type": "stream",
     "text": [
      "1.62 ms ± 1.19 µs per loop (mean ± std. dev. of 7 runs, 1000 loops each)\n"
     ]
    }
   ],
   "source": [
    "%timeit -n 1000 power(x, 100)"
   ]
  },
  {
   "cell_type": "markdown",
   "id": "automatic-quick",
   "metadata": {},
   "source": [
    "The graph execution is about `5x` faster in this case. Note that this is not a generalized benchmark. The actual speed-up depends on the functions you use. \n",
    "\n",
    "\n",
    "The graph creating process takes some time and that adds up to the execution time. This is a one time process and the loss in time is compensated by performance boost for repeated execution of the function. \n",
    "\n",
    "This can also end up making the first few step of training loop more faster than eager execution, but eventually the whole training is much faster."
   ]
  },
  {
   "cell_type": "markdown",
   "id": "square-laugh",
   "metadata": {},
   "source": [
    "### things to keep in mind while using `tf.function` using "
   ]
  },
  {
   "cell_type": "markdown",
   "id": "skilled-yorkshire",
   "metadata": {},
   "source": [
    "1. Include as much operations you can under the `tf.function` hood\n",
    "2. Pass tensorflow datatypes as inputs such as `tf.Tensor` or `tf.Variable`"
   ]
  },
  {
   "cell_type": "markdown",
   "id": "scenic-delay",
   "metadata": {},
   "source": [
    "#### As this is an important topic, more example providing things to do or avoid needs to be included"
   ]
  },
  {
   "cell_type": "markdown",
   "id": "japanese-mozambique",
   "metadata": {},
   "source": [
    "### Does Keras training happen in graphs?\n",
    "\n",
    "Yes. By default keras models are run in graph mode. They do it by wrapping their training steps under the `tf.function` hood\n",
    "\n",
    "Have a look the following code to check how they exactly implement it\n",
    "\n",
    "`https://github.com/tensorflow/tensorflow/blob/master/tensorflow/python/keras/engine/training.py#L863`"
   ]
  },
  {
   "cell_type": "markdown",
   "id": "stone-granny",
   "metadata": {},
   "source": [
    "Note: Tensorflow offers a function to convert any function to `tf.Function`"
   ]
  },
  {
   "cell_type": "markdown",
   "id": "tracked-sheriff",
   "metadata": {},
   "source": [
    "`tf.python.eager.def_function.function` and it's exposed as `tf.function` callable publically."
   ]
  },
  {
   "cell_type": "code",
   "execution_count": 2,
   "id": "sitting-elephant",
   "metadata": {},
   "outputs": [
    {
     "data": {
      "text/plain": [
       "True"
      ]
     },
     "execution_count": 2,
     "metadata": {},
     "output_type": "execute_result"
    }
   ],
   "source": [
    "tf.python.eager.def_function.function==tf.function"
   ]
  }
 ],
 "metadata": {
  "kernelspec": {
   "display_name": "bert_keyword",
   "language": "python",
   "name": "bert_keyword"
  },
  "language_info": {
   "codemirror_mode": {
    "name": "ipython",
    "version": 3
   },
   "file_extension": ".py",
   "mimetype": "text/x-python",
   "name": "python",
   "nbconvert_exporter": "python",
   "pygments_lexer": "ipython3",
   "version": "3.7.9"
  }
 },
 "nbformat": 4,
 "nbformat_minor": 5
}
