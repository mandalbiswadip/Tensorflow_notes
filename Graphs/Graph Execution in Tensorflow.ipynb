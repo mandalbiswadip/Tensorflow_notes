{
 "cells": [
  {
   "cell_type": "markdown",
   "id": "comprehensive-mailman",
   "metadata": {},
   "source": [
    "## Graph Execution in Tensorflow"
   ]
  },
  {
   "cell_type": "markdown",
   "id": "continental-butter",
   "metadata": {},
   "source": [
    "We are using `eager execution` by default in tensorflow 2.0"
   ]
  },
  {
   "cell_type": "markdown",
   "id": "transsexual-hungarian",
   "metadata": {},
   "source": [
    "Tensorflow can also be run in `Graph` mode where operations are run entirely run in `Tensorflow Graphs`. \n",
    "\n",
    "Graphs are data `structures` which contains the `tf.Operation` objects in nodes and 'tf.Tensor' objects in edges. Since they are not python data structures, they can be saved, restored and run without python being present"
   ]
  },
  {
   "cell_type": "markdown",
   "id": "fallen-transportation",
   "metadata": {},
   "source": [
    "**What is `tf.function`?**"
   ]
  },
  {
   "cell_type": "markdown",
   "id": "interpreted-potential",
   "metadata": {},
   "source": [
    "`tf.function` is the bridge between normal eager execution and graph execution. How does it do that --> It uses something called `AutoGraph`"
   ]
  },
  {
   "cell_type": "markdown",
   "id": "sound-preservation",
   "metadata": {},
   "source": [
    "**What is AutoGraph?**"
   ]
  },
  {
   "cell_type": "code",
   "execution_count": 24,
   "id": "revolutionary-interest",
   "metadata": {},
   "outputs": [],
   "source": [
    "import tensorflow as tf\n",
    "import numpy as np"
   ]
  },
  {
   "cell_type": "code",
   "execution_count": null,
   "id": "dependent-calendar",
   "metadata": {},
   "outputs": [],
   "source": []
  },
  {
   "cell_type": "markdown",
   "id": "behavioral-charles",
   "metadata": {},
   "source": [
    "### Converting python functions to tensorflow graphs"
   ]
  },
  {
   "cell_type": "markdown",
   "id": "coated-lending",
   "metadata": {},
   "source": [
    "The normal python code can be converted to a `Function` using the `tf.function` decorator offered by tensorflow"
   ]
  },
  {
   "cell_type": "code",
   "execution_count": 228,
   "id": "taken-assignment",
   "metadata": {},
   "outputs": [],
   "source": [
    "def add(x,y):\n",
    "    print(\"adding\")\n",
    "    result = tf.add(x,y)\n",
    "    return result"
   ]
  },
  {
   "cell_type": "code",
   "execution_count": 229,
   "id": "precise-classification",
   "metadata": {},
   "outputs": [],
   "source": [
    "a = tf.random.uniform((10,10))"
   ]
  },
  {
   "cell_type": "code",
   "execution_count": 231,
   "id": "future-fraction",
   "metadata": {},
   "outputs": [],
   "source": [
    "b = tf.random.uniform((10,10))"
   ]
  },
  {
   "cell_type": "markdown",
   "id": "pending-scott",
   "metadata": {},
   "source": [
    "`add` is a python function"
   ]
  },
  {
   "cell_type": "code",
   "execution_count": 238,
   "id": "brutal-wright",
   "metadata": {},
   "outputs": [
    {
     "data": {
      "text/plain": [
       "<function __main__.add(x, y)>"
      ]
     },
     "execution_count": 238,
     "metadata": {},
     "output_type": "execute_result"
    }
   ],
   "source": [
    "add"
   ]
  },
  {
   "cell_type": "code",
   "execution_count": 241,
   "id": "collect-gambling",
   "metadata": {},
   "outputs": [],
   "source": [
    "@tf.function\n",
    "def add(x,y):\n",
    "    print(\"adding\")\n",
    "    result = tf.add(x,y)\n",
    "    return result"
   ]
  },
  {
   "cell_type": "code",
   "execution_count": 242,
   "id": "contemporary-stable",
   "metadata": {},
   "outputs": [
    {
     "data": {
      "text/plain": [
       "<tensorflow.python.eager.def_function.Function at 0x7f6c5c749c90>"
      ]
     },
     "execution_count": 242,
     "metadata": {},
     "output_type": "execute_result"
    }
   ],
   "source": [
    "add"
   ]
  },
  {
   "cell_type": "markdown",
   "id": "pressed-botswana",
   "metadata": {},
   "source": [
    "Notice that the type of `add` has changed to `Function`"
   ]
  },
  {
   "cell_type": "code",
   "execution_count": 243,
   "id": "quantitative-section",
   "metadata": {},
   "outputs": [
    {
     "name": "stdout",
     "output_type": "stream",
     "text": [
      "adding\n"
     ]
    }
   ],
   "source": [
    "for x in range(5):\n",
    "    _ = add(a,b)"
   ]
  },
  {
   "cell_type": "markdown",
   "id": "convenient-times",
   "metadata": {},
   "source": [
    "Notice that even the though we called the graph function 5 times, it only printed `adding` once. This is due to `Tracing`\n",
    "\n",
    "\n",
    "**Tracing**<br>\n",
    "When the graph is defined the operation inside is recored and embedded into the graph. Tracing ignores operations like python print function as they are not very important. Unless you change the input data type, the `Tracing` is done only once and while calling the function the graph simply runs the saved operations as opposed normal python function where it execute the whole function line by line"
   ]
  },
  {
   "cell_type": "markdown",
   "id": "lined-deviation",
   "metadata": {},
   "source": [
    "Note that a 'Function' can be excuted in the eager mode by chancging the default mode by doing the following:"
   ]
  },
  {
   "cell_type": "code",
   "execution_count": 245,
   "id": "solid-beach",
   "metadata": {},
   "outputs": [],
   "source": [
    "tf.config.run_functions_eagerly(False)"
   ]
  },
  {
   "cell_type": "markdown",
   "id": "necessary-adams",
   "metadata": {},
   "source": [
    "### Speed Up"
   ]
  },
  {
   "cell_type": "code",
   "execution_count": 212,
   "id": "favorite-discussion",
   "metadata": {},
   "outputs": [],
   "source": [
    "@tf.function\n",
    "def power(x, y):\n",
    "  result = tf.eye(10, dtype=tf.dtypes.int32)\n",
    "  for _ in range(y):\n",
    "    result = tf.matmul(x, result)\n",
    "  return result"
   ]
  },
  {
   "cell_type": "code",
   "execution_count": 213,
   "id": "flexible-spice",
   "metadata": {},
   "outputs": [],
   "source": [
    "x = tf.random.uniform(shape=[10, 10], minval=-1, maxval=2, dtype=tf.dtypes.int32)"
   ]
  },
  {
   "cell_type": "markdown",
   "id": "sustained-criterion",
   "metadata": {},
   "source": [
    "### Running in Graph Mode"
   ]
  },
  {
   "cell_type": "code",
   "execution_count": 214,
   "id": "listed-presence",
   "metadata": {},
   "outputs": [
    {
     "name": "stdout",
     "output_type": "stream",
     "text": [
      "291 µs ± 44.4 µs per loop (mean ± std. dev. of 7 runs, 1000 loops each)\n"
     ]
    }
   ],
   "source": [
    "%timeit -n 1000 power(x, 100)"
   ]
  },
  {
   "cell_type": "markdown",
   "id": "described-watts",
   "metadata": {},
   "source": [
    "### Running in `Eager` mode"
   ]
  },
  {
   "cell_type": "code",
   "execution_count": 215,
   "id": "tired-carpet",
   "metadata": {},
   "outputs": [],
   "source": [
    "tf.config.run_functions_eagerly(True)"
   ]
  },
  {
   "cell_type": "code",
   "execution_count": 216,
   "id": "random-blocking",
   "metadata": {},
   "outputs": [
    {
     "name": "stdout",
     "output_type": "stream",
     "text": [
      "1.62 ms ± 1.19 µs per loop (mean ± std. dev. of 7 runs, 1000 loops each)\n"
     ]
    }
   ],
   "source": [
    "%timeit -n 1000 power(x, 100)"
   ]
  },
  {
   "cell_type": "markdown",
   "id": "unauthorized-yeast",
   "metadata": {},
   "source": [
    "The graph execution is about `5x` faster in this case. Note that this is not a generalized benchmark. The actual speed-up depends on the functions you use. \n",
    "\n",
    "\n",
    "The graph creating process takes some time and that adds up to the execution time. This is a one time process and the loss in time is compensated by performance boost for repeated execution of the function. \n",
    "\n",
    "This can also end up making the first few step of training loop more faster than eager execution, but eventually the whole training is much faster."
   ]
  },
  {
   "cell_type": "markdown",
   "id": "regulated-director",
   "metadata": {},
   "source": [
    "### things to keep in mind while using `tf.function` using "
   ]
  },
  {
   "cell_type": "markdown",
   "id": "forced-guidance",
   "metadata": {},
   "source": [
    "1. Include as much operations you can under the `tf.function` hood\n",
    "2. Pass tensorflow datatypes as inputs such as `tf.Tensor` or `tf.Variable`"
   ]
  },
  {
   "cell_type": "markdown",
   "id": "fallen-devil",
   "metadata": {},
   "source": [
    "#### As this is an important topic, more example providing things to do or avoid needs to be included"
   ]
  },
  {
   "cell_type": "markdown",
   "id": "combined-element",
   "metadata": {},
   "source": [
    "### Does Keras training happen in graphs?\n",
    "\n",
    "I will benchmark the speed-up of training models using eager and graph mode in another notebook "
   ]
  }
 ],
 "metadata": {
  "kernelspec": {
   "display_name": "bert_keyword",
   "language": "python",
   "name": "bert_keyword"
  },
  "language_info": {
   "codemirror_mode": {
    "name": "ipython",
    "version": 3
   },
   "file_extension": ".py",
   "mimetype": "text/x-python",
   "name": "python",
   "nbconvert_exporter": "python",
   "pygments_lexer": "ipython3",
   "version": "3.7.9"
  }
 },
 "nbformat": 4,
 "nbformat_minor": 5
}
