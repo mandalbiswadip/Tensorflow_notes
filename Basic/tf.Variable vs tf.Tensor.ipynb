{
 "cells": [
  {
   "cell_type": "markdown",
   "id": "interracial-product",
   "metadata": {},
   "source": [
    "Definiton from tensorflow guide:<br>\n",
    "     A `tf.Variable` represents a tensor whose value can be changed by running ops on it."
   ]
  },
  {
   "cell_type": "markdown",
   "id": "greater-tourism",
   "metadata": {},
   "source": [
    "Even though `tf.Variable` and `tf.Tensor` are same they have some crucial differences that make them different:\n",
    "* tf.Variable cannot be reshaped "
   ]
  },
  {
   "cell_type": "code",
   "execution_count": 3,
   "id": "given-canada",
   "metadata": {},
   "outputs": [],
   "source": [
    "import tensorflow as tf"
   ]
  },
  {
   "cell_type": "code",
   "execution_count": 4,
   "id": "grave-greeting",
   "metadata": {},
   "outputs": [],
   "source": [
    "import numpy as np"
   ]
  },
  {
   "cell_type": "code",
   "execution_count": 5,
   "id": "confidential-cabin",
   "metadata": {},
   "outputs": [
    {
     "data": {
      "text/plain": [
       "'2.3.0'"
      ]
     },
     "execution_count": 5,
     "metadata": {},
     "output_type": "execute_result"
    }
   ],
   "source": [
    "tf.__version__"
   ]
  },
  {
   "cell_type": "markdown",
   "id": "verbal-latter",
   "metadata": {},
   "source": [
    "Initilizing `tf.Variable` is quite similar to `tf.Tensor`"
   ]
  },
  {
   "cell_type": "code",
   "execution_count": 16,
   "id": "continued-concord",
   "metadata": {},
   "outputs": [
    {
     "data": {
      "text/plain": [
       "<tf.Variable 'Variable:0' shape=(2,) dtype=float32, numpy=array([2., 3.], dtype=float32)>"
      ]
     },
     "execution_count": 16,
     "metadata": {},
     "output_type": "execute_result"
    }
   ],
   "source": [
    "a = tf.Variable([2.,3])\n",
    "a"
   ]
  },
  {
   "cell_type": "markdown",
   "id": "disciplinary-mother",
   "metadata": {},
   "source": [
    "change the variable by `.assign`"
   ]
  },
  {
   "cell_type": "code",
   "execution_count": 17,
   "id": "outside-universal",
   "metadata": {},
   "outputs": [
    {
     "data": {
      "text/plain": [
       "<tf.Variable 'UnreadVariable' shape=(2,) dtype=float32, numpy=array([4., 5.], dtype=float32)>"
      ]
     },
     "execution_count": 17,
     "metadata": {},
     "output_type": "execute_result"
    }
   ],
   "source": [
    "a.assign([4,5])"
   ]
  },
  {
   "cell_type": "code",
   "execution_count": 20,
   "id": "instructional-modem",
   "metadata": {},
   "outputs": [
    {
     "name": "stdout",
     "output_type": "stream",
     "text": [
      "error\n"
     ]
    }
   ],
   "source": [
    "# following can't happend as it's changing the shape\n",
    "try:\n",
    "    a.assign([4])\n",
    "except:\n",
    "    print(\"error\")"
   ]
  },
  {
   "cell_type": "code",
   "execution_count": 23,
   "id": "appropriate-bandwidth",
   "metadata": {},
   "outputs": [],
   "source": [
    "b = tf.Variable(a)"
   ]
  },
  {
   "cell_type": "code",
   "execution_count": 27,
   "id": "periodic-departure",
   "metadata": {},
   "outputs": [
    {
     "data": {
      "text/plain": [
       "'0x7f3cec400450'"
      ]
     },
     "execution_count": 27,
     "metadata": {},
     "output_type": "execute_result"
    }
   ],
   "source": [
    "hex(id(a))"
   ]
  },
  {
   "cell_type": "code",
   "execution_count": 28,
   "id": "reserved-pharmacy",
   "metadata": {},
   "outputs": [
    {
     "data": {
      "text/plain": [
       "'0x7f3cec3ac090'"
      ]
     },
     "execution_count": 28,
     "metadata": {},
     "output_type": "execute_result"
    }
   ],
   "source": [
    "hex(id(b))"
   ]
  },
  {
   "cell_type": "markdown",
   "id": "quarterly-spouse",
   "metadata": {},
   "source": [
    "^Duplicated the tensor"
   ]
  },
  {
   "cell_type": "markdown",
   "id": "directed-karen",
   "metadata": {},
   "source": [
    "`tf.Variable` are variables that gets updated while training deep neural network in tensorflow.\n",
    "\n",
    "By default variables are trainable, but you can make them non-trainable"
   ]
  },
  {
   "cell_type": "markdown",
   "id": "hired-compilation",
   "metadata": {},
   "source": [
    "#### Trainable"
   ]
  },
  {
   "cell_type": "code",
   "execution_count": 31,
   "id": "reliable-pasta",
   "metadata": {},
   "outputs": [
    {
     "data": {
      "text/plain": [
       "True"
      ]
     },
     "execution_count": 31,
     "metadata": {},
     "output_type": "execute_result"
    }
   ],
   "source": [
    "a.trainable"
   ]
  },
  {
   "cell_type": "code",
   "execution_count": 37,
   "id": "dimensional-electronics",
   "metadata": {},
   "outputs": [
    {
     "data": {
      "text/plain": [
       "False"
      ]
     },
     "execution_count": 37,
     "metadata": {},
     "output_type": "execute_result"
    }
   ],
   "source": [
    "c = tf.Variable([4,5,6], trainable  = False)\n",
    "c.trainable"
   ]
  },
  {
   "cell_type": "markdown",
   "id": "harmful-boards",
   "metadata": {},
   "source": [
    "#### Name"
   ]
  },
  {
   "cell_type": "code",
   "execution_count": 32,
   "id": "traditional-mustang",
   "metadata": {},
   "outputs": [
    {
     "data": {
      "text/plain": [
       "'Variable:0'"
      ]
     },
     "execution_count": 32,
     "metadata": {},
     "output_type": "execute_result"
    }
   ],
   "source": [
    "a.name"
   ]
  },
  {
   "cell_type": "markdown",
   "id": "assumed-figure",
   "metadata": {},
   "source": [
    "You can given names while defining the variables, but typically models automatically given unique names to variables"
   ]
  },
  {
   "cell_type": "markdown",
   "id": "excess-mustang",
   "metadata": {},
   "source": [
    "#### Placing on different devices"
   ]
  },
  {
   "cell_type": "code",
   "execution_count": null,
   "id": "changed-bikini",
   "metadata": {},
   "outputs": [],
   "source": []
  }
 ],
 "metadata": {
  "kernelspec": {
   "display_name": "bert_keyword",
   "language": "python",
   "name": "bert_keyword"
  },
  "language_info": {
   "codemirror_mode": {
    "name": "ipython",
    "version": 3
   },
   "file_extension": ".py",
   "mimetype": "text/x-python",
   "name": "python",
   "nbconvert_exporter": "python",
   "pygments_lexer": "ipython3",
   "version": "3.7.9"
  }
 },
 "nbformat": 4,
 "nbformat_minor": 5
}
