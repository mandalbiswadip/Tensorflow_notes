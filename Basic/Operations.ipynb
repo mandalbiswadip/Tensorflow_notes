{
 "cells": [
  {
   "cell_type": "markdown",
   "id": "packed-navigator",
   "metadata": {},
   "source": [
    "### Transpose"
   ]
  },
  {
   "cell_type": "code",
   "execution_count": 1,
   "id": "interim-dispute",
   "metadata": {},
   "outputs": [],
   "source": [
    "import tensorflow as tf"
   ]
  },
  {
   "cell_type": "code",
   "execution_count": 6,
   "id": "streaming-bacteria",
   "metadata": {},
   "outputs": [],
   "source": [
    "a = tf.random.uniform(shape=(5,10, 4))"
   ]
  },
  {
   "cell_type": "code",
   "execution_count": 5,
   "id": "ignored-concord",
   "metadata": {},
   "outputs": [
    {
     "data": {
      "text/plain": [
       "TensorShape([5, 10])"
      ]
     },
     "execution_count": 5,
     "metadata": {},
     "output_type": "execute_result"
    }
   ],
   "source": [
    "a.shape"
   ]
  },
  {
   "cell_type": "code",
   "execution_count": 10,
   "id": "weighted-matter",
   "metadata": {},
   "outputs": [],
   "source": [
    "b = tf.transpose(a, perm=[1,0, 2])"
   ]
  },
  {
   "cell_type": "code",
   "execution_count": 14,
   "id": "suspected-sunrise",
   "metadata": {},
   "outputs": [
    {
     "data": {
      "text/plain": [
       "TensorShape([10, 5, 4])"
      ]
     },
     "execution_count": 14,
     "metadata": {},
     "output_type": "execute_result"
    }
   ],
   "source": [
    "b.shape"
   ]
  },
  {
   "cell_type": "code",
   "execution_count": null,
   "id": "moral-thickness",
   "metadata": {},
   "outputs": [],
   "source": [
    "Quick note: Transpose"
   ]
  }
 ],
 "metadata": {
  "kernelspec": {
   "display_name": "bert_keyword",
   "language": "python",
   "name": "bert_keyword"
  },
  "language_info": {
   "codemirror_mode": {
    "name": "ipython",
    "version": 3
   },
   "file_extension": ".py",
   "mimetype": "text/x-python",
   "name": "python",
   "nbconvert_exporter": "python",
   "pygments_lexer": "ipython3",
   "version": "3.7.9"
  }
 },
 "nbformat": 4,
 "nbformat_minor": 5
}
