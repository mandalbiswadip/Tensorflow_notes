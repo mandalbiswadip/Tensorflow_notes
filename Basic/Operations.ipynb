{
 "cells": [
  {
   "cell_type": "markdown",
   "id": "smoking-theme",
   "metadata": {},
   "source": [
    "### Transpose"
   ]
  },
  {
   "cell_type": "code",
   "execution_count": 1,
   "id": "unexpected-notification",
   "metadata": {},
   "outputs": [],
   "source": [
    "import tensorflow as tf"
   ]
  },
  {
   "cell_type": "code",
   "execution_count": 6,
   "id": "random-rainbow",
   "metadata": {},
   "outputs": [],
   "source": [
    "a = tf.random.uniform(shape=(5,10, 4))"
   ]
  },
  {
   "cell_type": "code",
   "execution_count": 5,
   "id": "inner-massage",
   "metadata": {},
   "outputs": [
    {
     "data": {
      "text/plain": [
       "TensorShape([5, 10])"
      ]
     },
     "execution_count": 5,
     "metadata": {},
     "output_type": "execute_result"
    }
   ],
   "source": [
    "a.shape"
   ]
  },
  {
   "cell_type": "code",
   "execution_count": 10,
   "id": "democratic-comparison",
   "metadata": {},
   "outputs": [],
   "source": [
    "b = tf.transpose(a, perm=[1,0, 2])"
   ]
  },
  {
   "cell_type": "code",
   "execution_count": 14,
   "id": "infinite-election",
   "metadata": {},
   "outputs": [
    {
     "data": {
      "text/plain": [
       "TensorShape([10, 5, 4])"
      ]
     },
     "execution_count": 14,
     "metadata": {},
     "output_type": "execute_result"
    }
   ],
   "source": [
    "b.shape"
   ]
  },
  {
   "cell_type": "markdown",
   "id": "exempt-cross",
   "metadata": {},
   "source": [
    "### Slicing"
   ]
  },
  {
   "cell_type": "markdown",
   "id": "presidential-sucking",
   "metadata": {},
   "source": [
    "Tensorflow supports slicing just like `Numpy`"
   ]
  },
  {
   "cell_type": "code",
   "execution_count": 16,
   "id": "spare-belize",
   "metadata": {},
   "outputs": [],
   "source": [
    "a = tf.constant([1,2,3,4,5,6])"
   ]
  },
  {
   "cell_type": "code",
   "execution_count": 18,
   "id": "native-circle",
   "metadata": {},
   "outputs": [
    {
     "data": {
      "text/plain": [
       "<tf.Tensor: shape=(3,), dtype=int32, numpy=array([2, 3, 4], dtype=int32)>"
      ]
     },
     "execution_count": 18,
     "metadata": {},
     "output_type": "execute_result"
    }
   ],
   "source": [
    "tf.slice(a, begin=[1], size=[3])"
   ]
  },
  {
   "cell_type": "code",
   "execution_count": null,
   "id": "minimal-rogers",
   "metadata": {},
   "outputs": [],
   "source": []
  },
  {
   "cell_type": "code",
   "execution_count": 33,
   "id": "ecological-simple",
   "metadata": {},
   "outputs": [],
   "source": [
    "b = tf.constant([[1,2,3,4,5,6], [2,3,4,5,6, 7], [3,4,5,6, 7, 8]])"
   ]
  },
  {
   "cell_type": "code",
   "execution_count": 35,
   "id": "related-guard",
   "metadata": {},
   "outputs": [
    {
     "data": {
      "text/plain": [
       "<tf.Tensor: shape=(2, 5), dtype=int32, numpy=\n",
       "array([[2, 3, 4, 5, 6],\n",
       "       [3, 4, 5, 6, 7]], dtype=int32)>"
      ]
     },
     "execution_count": 35,
     "metadata": {},
     "output_type": "execute_result"
    }
   ],
   "source": [
    "tf.slice(a, begin=[0, 1], size=[2,5])"
   ]
  },
  {
   "cell_type": "markdown",
   "id": "respiratory-voice",
   "metadata": {},
   "source": [
    "For multidimensional array, `begin` is the coordinate of the starting point and each ineteger in `size` refers to number of elements in each axis"
   ]
  },
  {
   "cell_type": "markdown",
   "id": "center-arcade",
   "metadata": {},
   "source": [
    "You can also slice in python like ways"
   ]
  },
  {
   "cell_type": "code",
   "execution_count": 37,
   "id": "capital-antigua",
   "metadata": {},
   "outputs": [
    {
     "data": {
      "text/plain": [
       "<tf.Tensor: shape=(2, 2), dtype=int32, numpy=\n",
       "array([[2, 3],\n",
       "       [3, 4]], dtype=int32)>"
      ]
     },
     "execution_count": 37,
     "metadata": {},
     "output_type": "execute_result"
    }
   ],
   "source": [
    "b[:2, 1:3]"
   ]
  },
  {
   "cell_type": "markdown",
   "id": "earned-tender",
   "metadata": {},
   "source": [
    "#### tf.gather"
   ]
  },
  {
   "cell_type": "markdown",
   "id": "federal-murray",
   "metadata": {},
   "source": [
    "tf.gather can be used to access specific indices"
   ]
  },
  {
   "cell_type": "code",
   "execution_count": 43,
   "id": "successful-circuit",
   "metadata": {},
   "outputs": [
    {
     "data": {
      "text/plain": [
       "<tf.Tensor: shape=(2, 6), dtype=int32, numpy=\n",
       "array([[1, 2, 3, 4, 5, 6],\n",
       "       [3, 4, 5, 6, 7, 8]], dtype=int32)>"
      ]
     },
     "execution_count": 43,
     "metadata": {},
     "output_type": "execute_result"
    }
   ],
   "source": [
    "tf.gather(b, indices=[0, 2])"
   ]
  },
  {
   "cell_type": "code",
   "execution_count": 44,
   "id": "loaded-suggestion",
   "metadata": {},
   "outputs": [
    {
     "data": {
      "text/plain": [
       "<tf.Tensor: shape=(1, 2, 6), dtype=int32, numpy=\n",
       "array([[[1, 2, 3, 4, 5, 6],\n",
       "        [3, 4, 5, 6, 7, 8]]], dtype=int32)>"
      ]
     },
     "execution_count": 44,
     "metadata": {},
     "output_type": "execute_result"
    }
   ],
   "source": [
    "tf.gather(b, indices=[[0, 2]])"
   ]
  },
  {
   "cell_type": "code",
   "execution_count": 45,
   "id": "lesbian-neighborhood",
   "metadata": {},
   "outputs": [],
   "source": [
    "t4 = tf.constant([[0, 5],\n",
    "                  [1, 6],\n",
    "                  [2, 7],\n",
    "                  [3, 8],\n",
    "                  [4, 9]])"
   ]
  },
  {
   "cell_type": "code",
   "execution_count": 46,
   "id": "equal-intro",
   "metadata": {},
   "outputs": [
    {
     "data": {
      "text/plain": [
       "<tf.Tensor: shape=(3, 2), dtype=int32, numpy=\n",
       "array([[0, 5],\n",
       "       [2, 7],\n",
       "       [3, 8]], dtype=int32)>"
      ]
     },
     "execution_count": 46,
     "metadata": {},
     "output_type": "execute_result"
    }
   ],
   "source": [
    "tf.gather(t4, indices=[0,2,3])"
   ]
  },
  {
   "cell_type": "markdown",
   "id": "intermediate-asian",
   "metadata": {},
   "source": [
    "### nest.flatten"
   ]
  },
  {
   "cell_type": "code",
   "execution_count": null,
   "id": "worst-residence",
   "metadata": {},
   "outputs": [],
   "source": []
  }
 ],
 "metadata": {
  "kernelspec": {
   "display_name": "bert_keyword",
   "language": "python",
   "name": "bert_keyword"
  },
  "language_info": {
   "codemirror_mode": {
    "name": "ipython",
    "version": 3
   },
   "file_extension": ".py",
   "mimetype": "text/x-python",
   "name": "python",
   "nbconvert_exporter": "python",
   "pygments_lexer": "ipython3",
   "version": "3.7.9"
  }
 },
 "nbformat": 4,
 "nbformat_minor": 5
}
