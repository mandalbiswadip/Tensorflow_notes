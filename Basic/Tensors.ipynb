{
 "cells": [
  {
   "cell_type": "markdown",
   "id": "elegant-terry",
   "metadata": {},
   "source": [
    "##### Reference:\n",
    "    https://www.tensorflow.org/guide/tensor"
   ]
  },
  {
   "cell_type": "code",
   "execution_count": 1,
   "id": "gothic-browse",
   "metadata": {},
   "outputs": [],
   "source": [
    "import tensorflow as tf"
   ]
  },
  {
   "cell_type": "code",
   "execution_count": 7,
   "id": "pharmaceutical-advice",
   "metadata": {},
   "outputs": [],
   "source": [
    "import numpy as np"
   ]
  },
  {
   "cell_type": "code",
   "execution_count": 8,
   "id": "acute-chester",
   "metadata": {},
   "outputs": [
    {
     "data": {
      "text/plain": [
       "'2.3.0'"
      ]
     },
     "execution_count": 8,
     "metadata": {},
     "output_type": "execute_result"
    }
   ],
   "source": [
    "tf.__version__"
   ]
  },
  {
   "cell_type": "markdown",
   "id": "nearby-kennedy",
   "metadata": {},
   "source": [
    "#### Tensor from Python List and numpy array"
   ]
  },
  {
   "cell_type": "code",
   "execution_count": 9,
   "id": "characteristic-design",
   "metadata": {},
   "outputs": [],
   "source": [
    "a = tf.constant([[3,4], [6,7]])"
   ]
  },
  {
   "cell_type": "code",
   "execution_count": 10,
   "id": "induced-editing",
   "metadata": {},
   "outputs": [
    {
     "data": {
      "text/plain": [
       "<tf.Tensor: shape=(2, 2), dtype=int32, numpy=\n",
       "array([[3, 4],\n",
       "       [6, 7]], dtype=int32)>"
      ]
     },
     "execution_count": 10,
     "metadata": {},
     "output_type": "execute_result"
    }
   ],
   "source": [
    "a"
   ]
  },
  {
   "cell_type": "code",
   "execution_count": 11,
   "id": "quick-month",
   "metadata": {},
   "outputs": [],
   "source": [
    "b = tf.constant(np.array([[3,4], [6,7]]))"
   ]
  },
  {
   "cell_type": "code",
   "execution_count": 12,
   "id": "younger-benchmark",
   "metadata": {},
   "outputs": [
    {
     "data": {
      "text/plain": [
       "<tf.Tensor: shape=(2, 2), dtype=int64, numpy=\n",
       "array([[3, 4],\n",
       "       [6, 7]])>"
      ]
     },
     "execution_count": 12,
     "metadata": {},
     "output_type": "execute_result"
    }
   ],
   "source": [
    "b"
   ]
  },
  {
   "cell_type": "markdown",
   "id": "specialized-coordinator",
   "metadata": {},
   "source": [
    "#### Numpy operations accepts `tensors`\n",
    "#### Tensorflow operations accepts arrays"
   ]
  },
  {
   "cell_type": "code",
   "execution_count": 13,
   "id": "adjusted-television",
   "metadata": {},
   "outputs": [
    {
     "data": {
      "text/plain": [
       "array([ 9, 11])"
      ]
     },
     "execution_count": 13,
     "metadata": {},
     "output_type": "execute_result"
    }
   ],
   "source": [
    "np.add([3,4], [6,7])"
   ]
  },
  {
   "cell_type": "code",
   "execution_count": 14,
   "id": "color-tribute",
   "metadata": {},
   "outputs": [
    {
     "data": {
      "text/plain": [
       "array([[ 6,  8],\n",
       "       [12, 14]])"
      ]
     },
     "execution_count": 14,
     "metadata": {},
     "output_type": "execute_result"
    }
   ],
   "source": [
    "np.add(a,b)"
   ]
  },
  {
   "cell_type": "code",
   "execution_count": 15,
   "id": "general-mouse",
   "metadata": {},
   "outputs": [
    {
     "data": {
      "text/plain": [
       "<tf.Tensor: shape=(2,), dtype=int32, numpy=array([ 9, 11], dtype=int32)>"
      ]
     },
     "execution_count": 15,
     "metadata": {},
     "output_type": "execute_result"
    }
   ],
   "source": [
    "tf.add([3,4], [6,7])"
   ]
  },
  {
   "cell_type": "code",
   "execution_count": 16,
   "id": "alive-sleep",
   "metadata": {},
   "outputs": [
    {
     "data": {
      "text/plain": [
       "<tf.Tensor: shape=(2,), dtype=int64, numpy=array([ 9, 11])>"
      ]
     },
     "execution_count": 16,
     "metadata": {},
     "output_type": "execute_result"
    }
   ],
   "source": [
    "tf.add(np.array([3,4]), np.array([6,7]))"
   ]
  },
  {
   "cell_type": "markdown",
   "id": "cognitive-ribbon",
   "metadata": {},
   "source": [
    "#### Getting Numpy values"
   ]
  },
  {
   "cell_type": "code",
   "execution_count": 17,
   "id": "mysterious-museum",
   "metadata": {},
   "outputs": [
    {
     "data": {
      "text/plain": [
       "<tf.Tensor: shape=(2, 2), dtype=int64, numpy=\n",
       "array([[3, 4],\n",
       "       [6, 7]])>"
      ]
     },
     "execution_count": 17,
     "metadata": {},
     "output_type": "execute_result"
    }
   ],
   "source": [
    "b"
   ]
  },
  {
   "cell_type": "code",
   "execution_count": 18,
   "id": "environmental-float",
   "metadata": {},
   "outputs": [
    {
     "data": {
      "text/plain": [
       "array([[3, 4],\n",
       "       [6, 7]])"
      ]
     },
     "execution_count": 18,
     "metadata": {},
     "output_type": "execute_result"
    }
   ],
   "source": [
    "b.numpy()"
   ]
  },
  {
   "cell_type": "markdown",
   "id": "restricted-latter",
   "metadata": {},
   "source": [
    "### Indexing in tensors"
   ]
  },
  {
   "cell_type": "code",
   "execution_count": 25,
   "id": "affiliated-cosmetic",
   "metadata": {},
   "outputs": [
    {
     "data": {
      "text/plain": [
       "<tf.Tensor: shape=(2,), dtype=int64, numpy=array([3, 4])>"
      ]
     },
     "execution_count": 25,
     "metadata": {},
     "output_type": "execute_result"
    }
   ],
   "source": [
    "b[0]"
   ]
  },
  {
   "cell_type": "markdown",
   "id": "decimal-software",
   "metadata": {},
   "source": [
    "##### Same Slicing rules apply as `numpy`"
   ]
  },
  {
   "cell_type": "code",
   "execution_count": 27,
   "id": "hollywood-intake",
   "metadata": {},
   "outputs": [
    {
     "data": {
      "text/plain": [
       "<tf.Tensor: shape=(2,), dtype=int64, numpy=array([4, 7])>"
      ]
     },
     "execution_count": 27,
     "metadata": {},
     "output_type": "execute_result"
    }
   ],
   "source": [
    "b[:,1]"
   ]
  },
  {
   "cell_type": "markdown",
   "id": "silver-norwegian",
   "metadata": {},
   "source": [
    "#### Tensor Resizing or Reshaping"
   ]
  },
  {
   "cell_type": "code",
   "execution_count": 26,
   "id": "miniature-burke",
   "metadata": {},
   "outputs": [
    {
     "data": {
      "text/plain": [
       "TensorShape([2, 2])"
      ]
     },
     "execution_count": 26,
     "metadata": {},
     "output_type": "execute_result"
    }
   ],
   "source": [
    "b.shape"
   ]
  },
  {
   "cell_type": "markdown",
   "id": "wicked-spring",
   "metadata": {},
   "source": [
    "#### While Reshaping, you have to make sure that the total number of element isn't altered"
   ]
  },
  {
   "cell_type": "code",
   "execution_count": 36,
   "id": "elementary-bridal",
   "metadata": {},
   "outputs": [
    {
     "data": {
      "text/plain": [
       "<tf.Tensor: shape=(4, 1), dtype=int64, numpy=\n",
       "array([[3],\n",
       "       [4],\n",
       "       [6],\n",
       "       [7]])>"
      ]
     },
     "execution_count": 36,
     "metadata": {},
     "output_type": "execute_result"
    }
   ],
   "source": [
    "tf.reshape(b, [4, 1])"
   ]
  },
  {
   "cell_type": "code",
   "execution_count": 31,
   "id": "overall-raise",
   "metadata": {},
   "outputs": [
    {
     "data": {
      "text/plain": [
       "TensorShape([3, 1])"
      ]
     },
     "execution_count": 31,
     "metadata": {},
     "output_type": "execute_result"
    }
   ],
   "source": [
    "x = tf.constant([[1], [2], [3]])\n",
    "x.shape"
   ]
  },
  {
   "cell_type": "code",
   "execution_count": 33,
   "id": "pressed-ancient",
   "metadata": {},
   "outputs": [
    {
     "data": {
      "text/plain": [
       "<tf.Tensor: shape=(1, 3), dtype=int32, numpy=array([[1, 2, 3]], dtype=int32)>"
      ]
     },
     "execution_count": 33,
     "metadata": {},
     "output_type": "execute_result"
    }
   ],
   "source": [
    "tf.reshape(x, shape=[1,3])"
   ]
  },
  {
   "cell_type": "code",
   "execution_count": 47,
   "id": "harmful-marketplace",
   "metadata": {},
   "outputs": [
    {
     "data": {
      "text/plain": [
       "<tf.Tensor: shape=(3, 4), dtype=float32, numpy=\n",
       "array([[0.9977968 , 0.9075507 , 0.30279195, 0.23636448],\n",
       "       [0.24843657, 0.52669275, 0.2739346 , 0.72012734],\n",
       "       [0.9478023 , 0.93668306, 0.06797659, 0.23521972]], dtype=float32)>"
      ]
     },
     "execution_count": 47,
     "metadata": {},
     "output_type": "execute_result"
    }
   ],
   "source": [
    "y = tf.random.uniform([3,4])\n",
    "y"
   ]
  },
  {
   "cell_type": "code",
   "execution_count": null,
   "id": "australian-sally",
   "metadata": {},
   "outputs": [],
   "source": []
  },
  {
   "cell_type": "code",
   "execution_count": 48,
   "id": "piano-transportation",
   "metadata": {},
   "outputs": [
    {
     "data": {
      "text/plain": [
       "<tf.Tensor: shape=(6, 2), dtype=float32, numpy=\n",
       "array([[0.9977968 , 0.9075507 ],\n",
       "       [0.30279195, 0.23636448],\n",
       "       [0.24843657, 0.52669275],\n",
       "       [0.2739346 , 0.72012734],\n",
       "       [0.9478023 , 0.93668306],\n",
       "       [0.06797659, 0.23521972]], dtype=float32)>"
      ]
     },
     "execution_count": 48,
     "metadata": {},
     "output_type": "execute_result"
    }
   ],
   "source": [
    "tf.reshape(y, [6,2])"
   ]
  },
  {
   "cell_type": "markdown",
   "id": "polish-house",
   "metadata": {},
   "source": [
    "##### Note: The tensors are `row-major` in memory. The elments of the reshaped tensors are picked up from the `row-major` version of the original matrix. This is evident from the above example"
   ]
  },
  {
   "cell_type": "markdown",
   "id": "coupled-envelope",
   "metadata": {},
   "source": [
    "##### Also Note: Reshaping never swaps axes as the `row-major` elements are conserved in the reshaped tensor"
   ]
  }
 ],
 "metadata": {
  "kernelspec": {
   "display_name": "bert_keyword",
   "language": "python",
   "name": "bert_keyword"
  },
  "language_info": {
   "codemirror_mode": {
    "name": "ipython",
    "version": 3
   },
   "file_extension": ".py",
   "mimetype": "text/x-python",
   "name": "python",
   "nbconvert_exporter": "python",
   "pygments_lexer": "ipython3",
   "version": "3.7.9"
  }
 },
 "nbformat": 4,
 "nbformat_minor": 5
}
