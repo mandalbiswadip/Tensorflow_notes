{
 "cells": [
  {
   "cell_type": "markdown",
   "id": "sixth-kansas",
   "metadata": {},
   "source": [
    "**What is tf.Data and why do we need it?**\n",
    "\n",
    "tf.data is tensorflow's own implementation of various data pipeline. You can use this API to Load and preprocess your data whthout writing custom codes in python or other libraries in python which makes the whole pipeline more faster making training process more efficient\n"
   ]
  },
  {
   "cell_type": "code",
   "execution_count": 11,
   "id": "reflected-dispute",
   "metadata": {},
   "outputs": [],
   "source": [
    "import tensorflow as tf"
   ]
  },
  {
   "cell_type": "markdown",
   "id": "present-retail",
   "metadata": {},
   "source": [
    "### Extract"
   ]
  },
  {
   "cell_type": "code",
   "execution_count": 17,
   "id": "increasing-lloyd",
   "metadata": {},
   "outputs": [],
   "source": [
    "file_pattern = \"/home/bxm200000/test_file.txt\""
   ]
  },
  {
   "cell_type": "code",
   "execution_count": 18,
   "id": "above-greensboro",
   "metadata": {},
   "outputs": [],
   "source": [
    "files = tf.data.Dataset.list_files(file_pattern)"
   ]
  },
  {
   "cell_type": "code",
   "execution_count": 19,
   "id": "prerequisite-wallpaper",
   "metadata": {},
   "outputs": [],
   "source": [
    "dataset = tf.data.TFRecordDataset(files)"
   ]
  },
  {
   "cell_type": "markdown",
   "id": "unavailable-wyoming",
   "metadata": {},
   "source": [
    "### Transform"
   ]
  },
  {
   "cell_type": "code",
   "execution_count": 20,
   "id": "prime-regard",
   "metadata": {},
   "outputs": [],
   "source": [
    "dataset = dataset.shuffle(10000)"
   ]
  },
  {
   "cell_type": "code",
   "execution_count": 21,
   "id": "adopted-squad",
   "metadata": {},
   "outputs": [],
   "source": [
    "dataset = dataset.repeat(10)"
   ]
  },
  {
   "cell_type": "code",
   "execution_count": null,
   "id": "restricted-noise",
   "metadata": {},
   "outputs": [],
   "source": [
    "dataset = dataset.map(lambda x: transform_function(x))"
   ]
  },
  {
   "cell_type": "code",
   "execution_count": null,
   "id": "massive-master",
   "metadata": {},
   "outputs": [],
   "source": [
    "dataset = dataset.batch(BATCH_SIZE)"
   ]
  },
  {
   "cell_type": "markdown",
   "id": "interior-james",
   "metadata": {},
   "source": [
    "### Loading"
   ]
  },
  {
   "cell_type": "code",
   "execution_count": 23,
   "id": "thick-vermont",
   "metadata": {},
   "outputs": [],
   "source": [
    "for batch in dataset:\n",
    "    pass"
   ]
  },
  {
   "cell_type": "markdown",
   "id": "disciplinary-competition",
   "metadata": {},
   "source": [
    "`tf.data` offers multiple utilities to make the input pipeline more efficient. One of the most important are `tf.data.Dataset`"
   ]
  },
  {
   "cell_type": "code",
   "execution_count": 10,
   "id": "auburn-chancellor",
   "metadata": {},
   "outputs": [
    {
     "data": {
      "text/plain": [
       "<function tensorflow.python.data.ops.dataset_ops.DatasetV2.reduce(self, initial_state, reduce_func)>"
      ]
     },
     "execution_count": 10,
     "metadata": {},
     "output_type": "execute_result"
    }
   ],
   "source": [
    "tf.data.Dataset.reduce"
   ]
  },
  {
   "cell_type": "markdown",
   "id": "invalid-liberal",
   "metadata": {},
   "source": [
    "`tf.data` CONVERTS USER DEFINED DATA TO GRAPHS IRRESPECTIVE OF RUNNING MODE"
   ]
  },
  {
   "cell_type": "code",
   "execution_count": null,
   "id": "spiritual-mambo",
   "metadata": {},
   "outputs": [],
   "source": []
  },
  {
   "cell_type": "code",
   "execution_count": null,
   "id": "progressive-calendar",
   "metadata": {},
   "outputs": [],
   "source": []
  },
  {
   "cell_type": "code",
   "execution_count": 2,
   "id": "italic-watch",
   "metadata": {},
   "outputs": [],
   "source": [
    "dataset1 = tf.data.Dataset.from_tensor_slices(tf.random.uniform([4, 10]))\n"
   ]
  },
  {
   "cell_type": "code",
   "execution_count": 3,
   "id": "driven-perspective",
   "metadata": {},
   "outputs": [
    {
     "data": {
      "text/plain": [
       "<TensorSliceDataset shapes: (10,), types: tf.float32>"
      ]
     },
     "execution_count": 3,
     "metadata": {},
     "output_type": "execute_result"
    }
   ],
   "source": [
    "dataset1"
   ]
  },
  {
   "cell_type": "code",
   "execution_count": 9,
   "id": "tribal-jimmy",
   "metadata": {},
   "outputs": [
    {
     "data": {
      "text/plain": [
       "<TensorSliceDataset shapes: (3,), types: tf.int32>"
      ]
     },
     "execution_count": 9,
     "metadata": {},
     "output_type": "execute_result"
    }
   ],
   "source": [
    "tf.data.Dataset.from_tensor_slices([[1,2,3],[1,2,3]])"
   ]
  },
  {
   "cell_type": "code",
   "execution_count": 32,
   "id": "typical-defense",
   "metadata": {},
   "outputs": [
    {
     "data": {
      "text/plain": [
       "<TensorSliceDataset shapes: (), types: tf.int32>"
      ]
     },
     "execution_count": 32,
     "metadata": {},
     "output_type": "execute_result"
    }
   ],
   "source": [
    "dataset = tf.data.Dataset.from_tensor_slices([8, 3, 0, 8, 2, 1])\n",
    "dataset"
   ]
  },
  {
   "cell_type": "code",
   "execution_count": 26,
   "id": "english-crossing",
   "metadata": {},
   "outputs": [
    {
     "data": {
      "text/plain": [
       "<TensorDataset shapes: (6,), types: tf.int32>"
      ]
     },
     "execution_count": 26,
     "metadata": {},
     "output_type": "execute_result"
    }
   ],
   "source": [
    "dataset = tf.data.Dataset.from_tensors([8, 3, 0, 8, 2, 1])\n",
    "dataset"
   ]
  },
  {
   "cell_type": "code",
   "execution_count": 33,
   "id": "boxed-diving",
   "metadata": {},
   "outputs": [],
   "source": [
    "dataset = dataset.map(lambda x:x)"
   ]
  },
  {
   "cell_type": "code",
   "execution_count": 34,
   "id": "grateful-bridge",
   "metadata": {},
   "outputs": [],
   "source": [
    "dataset = dataset.batch(2)"
   ]
  },
  {
   "cell_type": "code",
   "execution_count": 35,
   "id": "fiscal-wrist",
   "metadata": {},
   "outputs": [
    {
     "name": "stdout",
     "output_type": "stream",
     "text": [
      "tf.Tensor([8 3], shape=(2,), dtype=int32)\n",
      "tf.Tensor([0 8], shape=(2,), dtype=int32)\n",
      "tf.Tensor([2 1], shape=(2,), dtype=int32)\n"
     ]
    }
   ],
   "source": [
    "for batch in dataset:\n",
    "    print(batch)"
   ]
  },
  {
   "cell_type": "code",
   "execution_count": null,
   "id": "italic-semiconductor",
   "metadata": {},
   "outputs": [],
   "source": []
  }
 ],
 "metadata": {
  "kernelspec": {
   "display_name": "bert_keyword",
   "language": "python",
   "name": "bert_keyword"
  },
  "language_info": {
   "codemirror_mode": {
    "name": "ipython",
    "version": 3
   },
   "file_extension": ".py",
   "mimetype": "text/x-python",
   "name": "python",
   "nbconvert_exporter": "python",
   "pygments_lexer": "ipython3",
   "version": "3.7.9"
  }
 },
 "nbformat": 4,
 "nbformat_minor": 5
}
