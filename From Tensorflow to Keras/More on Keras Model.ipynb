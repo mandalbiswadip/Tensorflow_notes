{
 "cells": [
  {
   "cell_type": "markdown",
   "id": "dense-activity",
   "metadata": {},
   "source": [
    "We can train models using keras Models. The first step is to define your model by inheriting from the `tf.keras.Model`. This can make use of defined or already available layers in keras"
   ]
  },
  {
   "cell_type": "code",
   "execution_count": 7,
   "id": "pointed-capture",
   "metadata": {},
   "outputs": [],
   "source": [
    "import tensorflow as tf\n",
    "\n",
    "\n",
    "class Dense(tf.keras.layers.Layer):\n",
    "\n",
    "    def __init__(self, out_features, name=None):\n",
    "        super().__init__(name=name)\n",
    "        self.out_features = out_features\n",
    "\n",
    "    def build(self, input_shape):\n",
    "        self.w = tf.Variable(\n",
    "            tf.random.normal([input_shape[-1], self.out_features]), name='w')\n",
    "        self.b = tf.Variable(tf.zeros([self.out_features]), name='b')\n",
    "\n",
    "    def call(self, x):\n",
    "        y = tf.matmul(x, self.w) + self.b\n",
    "        return tf.nn.relu(y)\n"
   ]
  },
  {
   "cell_type": "code",
   "execution_count": 4,
   "id": "sophisticated-franchise",
   "metadata": {},
   "outputs": [],
   "source": [
    "class MyModel(tf.keras.Model):\n",
    "\n",
    "    def __init__(self, name=\"mymodel\"):\n",
    "        super().__init__()\n",
    "        self.dense = Dense(10)\n",
    "\n",
    "    def call(self, x):\n",
    "        return self.dense(x)\n",
    "\n",
    "\n",
    "sequential_model = MyModel()"
   ]
  },
  {
   "cell_type": "code",
   "execution_count": 5,
   "id": "vertical-terry",
   "metadata": {},
   "outputs": [
    {
     "data": {
      "text/plain": [
       "<__main__.MyModel at 0x7f110576a950>"
      ]
     },
     "execution_count": 5,
     "metadata": {},
     "output_type": "execute_result"
    }
   ],
   "source": [
    "sequential_model"
   ]
  },
  {
   "cell_type": "markdown",
   "id": "sudden-leonard",
   "metadata": {},
   "source": [
    "Now, if you think about it `Model` instances already contains to a deep learning architecture with trainable variables. The `call` function defines the forward pass of the Deep Learning Network and the gradients are obviously taken care by tensorflow under the hood"
   ]
  },
  {
   "cell_type": "markdown",
   "id": "applicable-cloud",
   "metadata": {},
   "source": [
    "If you have a set of inputs and outputs, the Netwrok can be trained/optimized for the dataset"
   ]
  },
  {
   "cell_type": "markdown",
   "id": "nonprofit-beginning",
   "metadata": {},
   "source": [
    "#### The following functions allow us to traine the Model on a dataset. We will discuss more about these in the `Keras API` section"
   ]
  },
  {
   "cell_type": "markdown",
   "id": "weighted-secondary",
   "metadata": {},
   "source": [
    "```\n",
    "model.compile(...)\n",
    "model.fit(...)\n",
    "```"
   ]
  },
  {
   "cell_type": "code",
   "execution_count": null,
   "id": "minute-receptor",
   "metadata": {},
   "outputs": [],
   "source": [
    "model.compile(...)"
   ]
  },
  {
   "cell_type": "code",
   "execution_count": null,
   "id": "applicable-ethnic",
   "metadata": {},
   "outputs": [],
   "source": []
  }
 ],
 "metadata": {
  "kernelspec": {
   "display_name": "bert_keyword",
   "language": "python",
   "name": "bert_keyword"
  },
  "language_info": {
   "codemirror_mode": {
    "name": "ipython",
    "version": 3
   },
   "file_extension": ".py",
   "mimetype": "text/x-python",
   "name": "python",
   "nbconvert_exporter": "python",
   "pygments_lexer": "ipython3",
   "version": "3.7.9"
  }
 },
 "nbformat": 4,
 "nbformat_minor": 5
}
