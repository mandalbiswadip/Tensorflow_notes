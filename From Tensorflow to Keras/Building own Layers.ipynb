{
 "cells": [
  {
   "cell_type": "markdown",
   "id": "final-anderson",
   "metadata": {},
   "source": [
    "This was my shot at writing few common layers used in Deep Learnning. Most of the efficient implementations are already present in the Keras API"
   ]
  },
  {
   "cell_type": "code",
   "execution_count": 1,
   "id": "included-passion",
   "metadata": {},
   "outputs": [],
   "source": [
    "import tensorflow as tf"
   ]
  },
  {
   "cell_type": "markdown",
   "id": "incomplete-missouri",
   "metadata": {},
   "source": [
    "#### A basic RNN layers. This is just for fun and not designed to be used in live deep learning models"
   ]
  },
  {
   "cell_type": "code",
   "execution_count": 36,
   "id": "coordinated-office",
   "metadata": {},
   "outputs": [],
   "source": [
    "\n",
    "class RNNCell(tf.keras.layers.Layer):\n",
    "    # to be used in RNNLayer\n",
    "    def __init__(self, hidden_dimension, num_classes=2, name=None):\n",
    "        super(RNNCell, self).__init__(name=name)\n",
    "        if hidden_dimension is None:\n",
    "            raise ValueError(\"hidden_dimension cannot be None\")\n",
    "        self.hidden_dimension = hidden_dimension\n",
    "        self.num_classes = num_classes\n",
    "\n",
    "    def build(self, input_shape):\n",
    "        self.w_one = tf.Variable(\n",
    "            tf.random.normal([input_shape[-1], self.hidden_dimension]), name='w_one')\n",
    "        self.w_two = tf.Variable(\n",
    "            tf.random.normal([self.hidden_dimension, self.hidden_dimension]), name='w_two')\n",
    "\n",
    "        self.b = tf.Variable(tf.zeros([self.hidden_dimension]), name='b')\n",
    "\n",
    "        self.v = tf.Variable(\n",
    "            tf.random.uniform([self.hidden_dimension, self.num_classes]), name='v')\n",
    "        self.c = tf.Variable(tf.zeros([self.num_classes]), name='c')\n",
    "\n",
    "    def call(self, inputs, states):\n",
    "        # input shape --> (batch size, embed dimension)\n",
    "\n",
    "        at = tf.linalg.matmul(inputs, self.w_one) + tf.linalg.matmul(states, self.w_two) + self.b\n",
    "        state = tf.nn.tanh(at)\n",
    "        ot = self.c + tf.linalg.matmul(state, self.v)\n",
    "        yt = tf.nn.softmax(ot)\n",
    "        return yt, state\n",
    "\n",
    "\n",
    "class RNNLayer(tf.keras.layers.Layer):\n",
    "    def __init__(self, hidden_dimension, num_classes=2, name=None):\n",
    "        super(RNNLayer, self).__init__(name=name)\n",
    "        self.hidden_dimension = hidden_dimension\n",
    "        self.num_classes = num_classes\n",
    "        self.rnn_cell = RNNCell(\n",
    "            hidden_dimension=self.hidden_dimension,\n",
    "            num_classes=self.num_classes\n",
    "        )\n",
    "\n",
    "    def build(self, input_shape):\n",
    "        pass\n",
    "\n",
    "    def call(self, inputs):\n",
    "        time_first_input = tf.transpose(inputs, perm=[1, 0, 2])  # steps * batch * embedding\n",
    "\n",
    "        current_state = tf.zeros(shape=(time_first_input.shape[1], self.hidden_dimension))\n",
    "\n",
    "        states = []\n",
    "        outputs = []\n",
    "        # TODO void doing lists\n",
    "        for i in range(time_first_input.shape[0]):\n",
    "            yt, current_state = self.rnn_cell(inputs=time_first_input[i], states=current_state)\n",
    "            states.append(current_state)\n",
    "            outputs.append(yt)\n",
    "        outputs = tf.stack(outputs)\n",
    "        states = tf.stack(states)\n",
    "        outputs = tf.transpose(outputs, perm=[1, 0, 2])\n",
    "        states = tf.transpose(states, perm=[1, 0, 2])\n",
    "        return outputs, states"
   ]
  },
  {
   "cell_type": "code",
   "execution_count": 37,
   "id": "julian-belly",
   "metadata": {},
   "outputs": [],
   "source": [
    "rnn_layer = RNNLayer(hidden_dimension=100, num_classes=2)"
   ]
  },
  {
   "cell_type": "code",
   "execution_count": 38,
   "id": "intended-electron",
   "metadata": {},
   "outputs": [],
   "source": [
    "inputs = tf.random.uniform(shape=(32,10, 50))"
   ]
  },
  {
   "cell_type": "code",
   "execution_count": 39,
   "id": "remarkable-mercury",
   "metadata": {},
   "outputs": [],
   "source": [
    "outputs, states = rnn_layer(inputs)"
   ]
  },
  {
   "cell_type": "markdown",
   "id": "delayed-mailman",
   "metadata": {},
   "source": [
    "### Verify softmax output sums. They should very close to one."
   ]
  },
  {
   "cell_type": "code",
   "execution_count": 48,
   "id": "fixed-domain",
   "metadata": {},
   "outputs": [
    {
     "data": {
      "text/plain": [
       "<tf.Tensor: shape=(10,), dtype=float32, numpy=\n",
       "array([1.        , 1.        , 0.99999994, 1.        , 0.99999994,\n",
       "       1.        , 1.        , 1.        , 1.        , 0.99999994],\n",
       "      dtype=float32)>"
      ]
     },
     "execution_count": 48,
     "metadata": {},
     "output_type": "execute_result"
    }
   ],
   "source": [
    "tf.reduce_sum(outputs[0], axis=-1)"
   ]
  },
  {
   "cell_type": "markdown",
   "id": "reasonable-youth",
   "metadata": {},
   "source": [
    "#### Quick note: Guess why some outputs are not exactly 1.0"
   ]
  },
  {
   "cell_type": "code",
   "execution_count": 49,
   "id": "needed-dress",
   "metadata": {},
   "outputs": [
    {
     "data": {
      "text/plain": [
       "32"
      ]
     },
     "execution_count": 49,
     "metadata": {},
     "output_type": "execute_result"
    }
   ],
   "source": [
    "outputs.__len__()"
   ]
  },
  {
   "cell_type": "code",
   "execution_count": 50,
   "id": "behind-lexington",
   "metadata": {},
   "outputs": [
    {
     "data": {
      "text/plain": [
       "TensorShape([10, 2])"
      ]
     },
     "execution_count": 50,
     "metadata": {},
     "output_type": "execute_result"
    }
   ],
   "source": [
    "outputs[0].shape"
   ]
  },
  {
   "cell_type": "code",
   "execution_count": 51,
   "id": "floating-launch",
   "metadata": {},
   "outputs": [
    {
     "data": {
      "text/plain": [
       "TensorShape([32, 10, 100])"
      ]
     },
     "execution_count": 51,
     "metadata": {},
     "output_type": "execute_result"
    }
   ],
   "source": [
    "states.shape"
   ]
  },
  {
   "cell_type": "code",
   "execution_count": null,
   "id": "mechanical-stockholm",
   "metadata": {},
   "outputs": [],
   "source": []
  }
 ],
 "metadata": {
  "kernelspec": {
   "display_name": "bert_keyword",
   "language": "python",
   "name": "bert_keyword"
  },
  "language_info": {
   "codemirror_mode": {
    "name": "ipython",
    "version": 3
   },
   "file_extension": ".py",
   "mimetype": "text/x-python",
   "name": "python",
   "nbconvert_exporter": "python",
   "pygments_lexer": "ipython3",
   "version": "3.7.9"
  }
 },
 "nbformat": 4,
 "nbformat_minor": 5
}
