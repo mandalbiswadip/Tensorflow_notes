{
 "cells": [
  {
   "cell_type": "markdown",
   "id": "natural-insurance",
   "metadata": {},
   "source": [
    "#### `tf.Module` and it's uses in Keras"
   ]
  },
  {
   "cell_type": "code",
   "execution_count": 4,
   "id": "vertical-result",
   "metadata": {},
   "outputs": [],
   "source": [
    "import tensorflow as tf"
   ]
  },
  {
   "cell_type": "markdown",
   "id": "dedicated-sport",
   "metadata": {},
   "source": [
    "#### To get started with this, let's create a `Dense` class function in python first"
   ]
  },
  {
   "cell_type": "code",
   "execution_count": 5,
   "id": "outstanding-philippines",
   "metadata": {},
   "outputs": [],
   "source": [
    "class Dense():\n",
    "  def __init__(self, in_features, out_features):\n",
    "    self.w = tf.Variable(\n",
    "      tf.random.normal([in_features, out_features]), name='w')\n",
    "    self.b = tf.Variable(tf.zeros([out_features]), name='b')\n",
    "  def __call__(self, x):\n",
    "    y = tf.matmul(x, self.w) + self.b\n",
    "    return tf.nn.relu(y)"
   ]
  },
  {
   "cell_type": "markdown",
   "id": "large-cambodia",
   "metadata": {},
   "source": [
    "This is a valid `Dense` function. We can create a custom dense layer and get the output to verify"
   ]
  },
  {
   "cell_type": "code",
   "execution_count": 21,
   "id": "forbidden-victorian",
   "metadata": {},
   "outputs": [],
   "source": [
    "dense = Dense(in_features=2, out_features=4)"
   ]
  },
  {
   "cell_type": "code",
   "execution_count": 22,
   "id": "regular-provision",
   "metadata": {},
   "outputs": [
    {
     "data": {
      "text/plain": [
       "<tf.Tensor: shape=(1, 4), dtype=float32, numpy=array([[0.        , 0.6987848 , 0.48126575, 0.        ]], dtype=float32)>"
      ]
     },
     "execution_count": 22,
     "metadata": {},
     "output_type": "execute_result"
    }
   ],
   "source": [
    "input = tf.random.uniform((1,2))\n",
    "dense(input)"
   ]
  },
  {
   "cell_type": "markdown",
   "id": "developing-monster",
   "metadata": {},
   "source": [
    "We have transformed the output with a Dense layer(It's not really making the vector Dense, is it :P)"
   ]
  },
  {
   "cell_type": "markdown",
   "id": "second-henry",
   "metadata": {},
   "source": [
    "Same class but inheriting from `tf.Module`"
   ]
  },
  {
   "cell_type": "code",
   "execution_count": 23,
   "id": "satellite-joyce",
   "metadata": {},
   "outputs": [],
   "source": [
    "class Dense(tf.Module):\n",
    "  def __init__(self, in_features, out_features, name=None):\n",
    "    super().__init__(name=name)\n",
    "    self.w = tf.Variable(\n",
    "      tf.random.normal([in_features, out_features]), name='w')\n",
    "    self.b = tf.Variable(tf.zeros([out_features]), name='b')\n",
    "  def __call__(self, x):\n",
    "    y = tf.matmul(x, self.w) + self.b\n",
    "    return tf.nn.relu(y)"
   ]
  },
  {
   "cell_type": "code",
   "execution_count": 29,
   "id": "limited-housing",
   "metadata": {},
   "outputs": [],
   "source": [
    "dense_new = Dense(in_features=2, out_features=4, name = \"dense\")"
   ]
  },
  {
   "cell_type": "code",
   "execution_count": 30,
   "id": "ranging-surfing",
   "metadata": {},
   "outputs": [
    {
     "data": {
      "text/plain": [
       "<tf.Tensor: shape=(1, 4), dtype=float32, numpy=array([[0.        , 0.        , 0.        , 0.89343256]], dtype=float32)>"
      ]
     },
     "execution_count": 30,
     "metadata": {},
     "output_type": "execute_result"
    }
   ],
   "source": [
    "dense_new(input)"
   ]
  },
  {
   "cell_type": "markdown",
   "id": "funky-slide",
   "metadata": {},
   "source": [
    "We have the same function. (guess why the outputs are different)"
   ]
  },
  {
   "cell_type": "markdown",
   "id": "independent-tennessee",
   "metadata": {},
   "source": [
    "**What's the point of inheriting from `tf.Module`??**\n",
    "\n",
    "Well, there are many advantages to it. `tf.Module` helps you track variables or any modules inside it. \n"
   ]
  },
  {
   "cell_type": "markdown",
   "id": "enabling-rotation",
   "metadata": {},
   "source": [
    "It automatically collects the `trainable_variables`. This is useful in gradient descent"
   ]
  },
  {
   "cell_type": "code",
   "execution_count": 31,
   "id": "perceived-tsunami",
   "metadata": {},
   "outputs": [
    {
     "data": {
      "text/plain": [
       "(<tf.Variable 'b:0' shape=(4,) dtype=float32, numpy=array([0., 0., 0., 0.], dtype=float32)>,\n",
       " <tf.Variable 'w:0' shape=(2, 4) dtype=float32, numpy=\n",
       " array([[-0.5385689 , -0.1550776 , -0.25981608,  0.9472819 ],\n",
       "        [-0.44765753, -0.44565493,  0.11037057,  0.30974227]],\n",
       "       dtype=float32)>)"
      ]
     },
     "execution_count": 31,
     "metadata": {},
     "output_type": "execute_result"
    }
   ],
   "source": [
    "dense_new.trainable_variables"
   ]
  },
  {
   "cell_type": "markdown",
   "id": "figured-memphis",
   "metadata": {},
   "source": [
    "#### Look at the following function"
   ]
  },
  {
   "cell_type": "code",
   "execution_count": 32,
   "id": "alternative-sauce",
   "metadata": {},
   "outputs": [],
   "source": [
    "class SequentialModule(tf.Module):\n",
    "  def __init__(self, name=None):\n",
    "    super().__init__(name=name)\n",
    "\n",
    "    self.dense_1 = Dense(in_features=3, out_features=3)\n",
    "    self.dense_2 = Dense(in_features=3, out_features=2)\n",
    "\n",
    "  def __call__(self, x):\n",
    "    x = self.dense_1(x)\n",
    "    return self.dense_2(x)\n",
    "\n",
    "# You have made a model!\n",
    "my_model = SequentialModule(name=\"the_model\")"
   ]
  },
  {
   "cell_type": "markdown",
   "id": "upper-collection",
   "metadata": {},
   "source": [
    "As mentioned earlier, `tf.Module` also automatically collects the modules inside it"
   ]
  },
  {
   "cell_type": "code",
   "execution_count": 33,
   "id": "checked-tract",
   "metadata": {},
   "outputs": [],
   "source": [
    "module = SequentialModule(name=\"sequential\")"
   ]
  },
  {
   "cell_type": "code",
   "execution_count": 34,
   "id": "foster-number",
   "metadata": {},
   "outputs": [
    {
     "data": {
      "text/plain": [
       "(<__main__.Dense at 0x7f6ab6f29e10>, <__main__.Dense at 0x7f6b266e2050>)"
      ]
     },
     "execution_count": 34,
     "metadata": {},
     "output_type": "execute_result"
    }
   ],
   "source": [
    "module.submodules"
   ]
  },
  {
   "cell_type": "markdown",
   "id": "exclusive-touch",
   "metadata": {},
   "source": [
    "### Use in Keras"
   ]
  },
  {
   "cell_type": "markdown",
   "id": "silent-portugal",
   "metadata": {},
   "source": [
    "`tf.keras.layers.Layer` and `tf.keras.models.Model` both are inherited and enjoy the functionality of `tf.Module`"
   ]
  },
  {
   "cell_type": "code",
   "execution_count": 36,
   "id": "local-album",
   "metadata": {},
   "outputs": [
    {
     "data": {
      "text/plain": [
       "(True, True)"
      ]
     },
     "execution_count": 36,
     "metadata": {},
     "output_type": "execute_result"
    }
   ],
   "source": [
    "issubclass(tf.keras.layers.Layer, tf.Module), issubclass(tf.keras.models.Model, tf.Module)"
   ]
  },
  {
   "cell_type": "markdown",
   "id": "micro-editor",
   "metadata": {},
   "source": [
    "Btw, here are what `tf.keras.layers.Layer` and `tf.keras.models.Model` is commonly used for"
   ]
  },
  {
   "cell_type": "markdown",
   "id": "exotic-baltimore",
   "metadata": {},
   "source": [
    "`tf.keras.layers.Layer` - it's the class from which most of the Layers inherit from. Usually takes an input and produces one/more output"
   ]
  },
  {
   "cell_type": "code",
   "execution_count": 38,
   "id": "palestinian-toddler",
   "metadata": {},
   "outputs": [
    {
     "data": {
      "text/plain": [
       "True"
      ]
     },
     "execution_count": 38,
     "metadata": {},
     "output_type": "execute_result"
    }
   ],
   "source": [
    "issubclass(tf.keras.layers.Conv2D, tf.keras.layers.Layer)"
   ]
  },
  {
   "cell_type": "markdown",
   "id": "public-eligibility",
   "metadata": {},
   "source": [
    "`tf.keras.models.Model` - it's the class which helps and includes funcnalities of training models"
   ]
  },
  {
   "cell_type": "markdown",
   "id": "responsible-makeup",
   "metadata": {},
   "source": [
    "#### **Nice to know fact:** tf.keras.models.Model inherits from tf.keras.layers.Layer as well"
   ]
  },
  {
   "cell_type": "code",
   "execution_count": 42,
   "id": "military-graph",
   "metadata": {},
   "outputs": [
    {
     "data": {
      "text/plain": [
       "True"
      ]
     },
     "execution_count": 42,
     "metadata": {},
     "output_type": "execute_result"
    }
   ],
   "source": [
    "issubclass(tf.keras.models.Model, tf.keras.layers.Layer)"
   ]
  },
  {
   "cell_type": "markdown",
   "id": "simplified-conservative",
   "metadata": {},
   "source": [
    "Hence, `tf.keras.models.Model` includes functionalities of `tf.keras.layers.Layer` and other features for training, evaluating, saving, restoring models"
   ]
  },
  {
   "cell_type": "markdown",
   "id": "informative-therapy",
   "metadata": {},
   "source": [
    "### the `call()` function"
   ]
  },
  {
   "cell_type": "markdown",
   "id": "built-apple",
   "metadata": {},
   "source": [
    "The `call()` function can be implemented to indicate the forward pass of the layer. For an example, the `Dense` layer will calculate the Linear transormation followed by addition of bias and non-linear transformation(tanh or relu)"
   ]
  },
  {
   "cell_type": "code",
   "execution_count": 44,
   "id": "located-focus",
   "metadata": {},
   "outputs": [],
   "source": [
    "class Dense(tf.keras.layers.Layer):\n",
    "  def __init__(self, in_features, out_features, name=None):\n",
    "    super().__init__(name=name)\n",
    "    self.w = tf.Variable(\n",
    "      tf.random.normal([in_features, out_features]), name='w')\n",
    "    self.b = tf.Variable(tf.zeros([out_features]), name='b')\n",
    "  def call(self, x):\n",
    "    y = tf.matmul(x, self.w) + self.b\n",
    "    return tf.nn.relu(y)"
   ]
  },
  {
   "cell_type": "code",
   "execution_count": 45,
   "id": "polyphonic-hayes",
   "metadata": {},
   "outputs": [],
   "source": [
    "dense = Dense(in_features=2, out_features=4)"
   ]
  },
  {
   "cell_type": "code",
   "execution_count": 46,
   "id": "naughty-antique",
   "metadata": {},
   "outputs": [
    {
     "data": {
      "text/plain": [
       "<tf.Tensor: shape=(1, 4), dtype=float32, numpy=array([[2.0835488 , 0.23695548, 0.30858696, 0.        ]], dtype=float32)>"
      ]
     },
     "execution_count": 46,
     "metadata": {},
     "output_type": "execute_result"
    }
   ],
   "source": [
    "dense(input)"
   ]
  },
  {
   "cell_type": "markdown",
   "id": "criminal-major",
   "metadata": {},
   "source": [
    "If you are wondering why you can get away with implementaing a `call()` rather than `__call__()` function, this is done by the `tf.keras.layers.Layer` class.\n",
    "\n",
    "When you call `dense` instance, `dense.__call__()` is called, and this in turn calls the `call()` function you have implemented. This is possible because the  `__call__()` function of `tf.keras.layers.Layer` has been implemented this way"
   ]
  },
  {
   "cell_type": "markdown",
   "id": "measured-ability",
   "metadata": {},
   "source": [
    "### the `build()` function"
   ]
  },
  {
   "cell_type": "markdown",
   "id": "bored-reason",
   "metadata": {},
   "source": [
    "`tf.keras.layers.Layer` also offers the flexibility to wait for the weights/variables to be created until the input comes.\n",
    "\n",
    "For an example, if you want to wait for the input to pass till you decide on the input dimension of `Dense` layer, you can do that using the `build()` function"
   ]
  },
  {
   "cell_type": "code",
   "execution_count": 53,
   "id": "documented-share",
   "metadata": {},
   "outputs": [],
   "source": [
    "class Dense(tf.keras.layers.Layer):\n",
    "  def __init__(self, out_features, name=None):\n",
    "    super().__init__(name=name)\n",
    "    self.out_features = out_features\n",
    "  \n",
    "  def build(self, input_shape):\n",
    "    self.w = tf.Variable(\n",
    "      tf.random.normal([input_shape[-1], self.out_features]), name='w')\n",
    "    self.b = tf.Variable(tf.zeros([self.out_features]), name='b')\n",
    "\n",
    "    \n",
    "  def call(self, x):\n",
    "    y = tf.matmul(x, self.w) + self.b\n",
    "    return tf.nn.relu(y)"
   ]
  },
  {
   "cell_type": "code",
   "execution_count": 54,
   "id": "concrete-concrete",
   "metadata": {},
   "outputs": [],
   "source": [
    "dense = Dense(out_features=4, name=\"model\")"
   ]
  },
  {
   "cell_type": "code",
   "execution_count": 55,
   "id": "breathing-explorer",
   "metadata": {},
   "outputs": [
    {
     "data": {
      "text/plain": [
       "<tf.Tensor: shape=(1, 4), dtype=float32, numpy=array([[0.        , 0.06571113, 0.13430151, 0.78265435]], dtype=float32)>"
      ]
     },
     "execution_count": 55,
     "metadata": {},
     "output_type": "execute_result"
    }
   ],
   "source": [
    "dense(tf.random.uniform((1,3)))"
   ]
  },
  {
   "cell_type": "markdown",
   "id": "handed-shelter",
   "metadata": {},
   "source": [
    "Again, the `build` function is called from inside the `__call__` function in `tf.keras.layers.Layer` implementation"
   ]
  },
  {
   "cell_type": "markdown",
   "id": "controlled-juvenile",
   "metadata": {},
   "source": [
    "As tf.keras.models.Model is inherited from `tf.keras.layers.Layer`, the have similar `call` and `build` function"
   ]
  },
  {
   "cell_type": "markdown",
   "id": "unlimited-broadcasting",
   "metadata": {},
   "source": [
    "More instruction on `tf.keras.models.Model` is available in the next notebook"
   ]
  }
 ],
 "metadata": {
  "kernelspec": {
   "display_name": "bert_keyword",
   "language": "python",
   "name": "bert_keyword"
  },
  "language_info": {
   "codemirror_mode": {
    "name": "ipython",
    "version": 3
   },
   "file_extension": ".py",
   "mimetype": "text/x-python",
   "name": "python",
   "nbconvert_exporter": "python",
   "pygments_lexer": "ipython3",
   "version": "3.7.9"
  }
 },
 "nbformat": 4,
 "nbformat_minor": 5
}
