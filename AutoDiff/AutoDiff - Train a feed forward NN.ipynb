{
 "cells": [
  {
   "cell_type": "markdown",
   "id": "broke-investment",
   "metadata": {},
   "source": [
    "##### We are going to optimize a Feed Forward Neural Network using `tf.GradientTape` on a synthatic data"
   ]
  },
  {
   "cell_type": "code",
   "execution_count": 1,
   "id": "meaning-syntax",
   "metadata": {},
   "outputs": [],
   "source": [
    "from __future__ import unicode_literals"
   ]
  },
  {
   "cell_type": "code",
   "execution_count": 2,
   "id": "floating-console",
   "metadata": {},
   "outputs": [],
   "source": [
    "import tensorflow as tf\n",
    "import numpy as np"
   ]
  },
  {
   "cell_type": "markdown",
   "id": "mineral-seller",
   "metadata": {},
   "source": [
    "We will try to fit the following polynomial in a Feed Forward Neural Network:\n",
    "\n",
    "\n",
    "`y = 2*x^2 + 3`"
   ]
  },
  {
   "cell_type": "markdown",
   "id": "lesser-inspector",
   "metadata": {},
   "source": [
    "That is we are going to generate synthetic data using the equation and use the data to fit a DNN using low level functions in Tensorflow"
   ]
  },
  {
   "cell_type": "code",
   "execution_count": 267,
   "id": "medical-chick",
   "metadata": {},
   "outputs": [],
   "source": [
    "def get_y(x):\n",
    "    return  2*x**2 + 3"
   ]
  },
  {
   "cell_type": "markdown",
   "id": "nutritional-milan",
   "metadata": {},
   "source": [
    "#### Generate Data"
   ]
  },
  {
   "cell_type": "code",
   "execution_count": 268,
   "id": "stuffed-hypothesis",
   "metadata": {},
   "outputs": [],
   "source": [
    "x = np.linspace(0, 10, num =10000)"
   ]
  },
  {
   "cell_type": "code",
   "execution_count": 269,
   "id": "lesbian-roots",
   "metadata": {},
   "outputs": [],
   "source": [
    "y = get_y(x)"
   ]
  },
  {
   "cell_type": "code",
   "execution_count": 270,
   "id": "patent-elements",
   "metadata": {},
   "outputs": [
    {
     "data": {
      "text/plain": [
       "array([0.00000000e+00, 1.00010001e-03, 2.00020002e-03, ...,\n",
       "       9.99799980e+00, 9.99899990e+00, 1.00000000e+01])"
      ]
     },
     "execution_count": 270,
     "metadata": {},
     "output_type": "execute_result"
    }
   ],
   "source": [
    "x"
   ]
  },
  {
   "cell_type": "code",
   "execution_count": 271,
   "id": "academic-laundry",
   "metadata": {},
   "outputs": [
    {
     "data": {
      "text/plain": [
       "array([  3.      ,   3.000002,   3.000008, ..., 202.92    , 202.959998,\n",
       "       203.      ])"
      ]
     },
     "execution_count": 271,
     "metadata": {},
     "output_type": "execute_result"
    }
   ],
   "source": [
    "y"
   ]
  },
  {
   "cell_type": "markdown",
   "id": "consecutive-feeling",
   "metadata": {},
   "source": [
    "#### Define weights For the Network"
   ]
  },
  {
   "cell_type": "code",
   "execution_count": 272,
   "id": "involved-theater",
   "metadata": {},
   "outputs": [],
   "source": [
    "W = tf.random.uniform(\n",
    "    shape = (1,500), maxval=1.,\n",
    "    dtype=tf.float32\n",
    ")"
   ]
  },
  {
   "cell_type": "code",
   "execution_count": 273,
   "id": "operating-lobby",
   "metadata": {},
   "outputs": [],
   "source": [
    "W = tf.Variable(W)"
   ]
  },
  {
   "cell_type": "code",
   "execution_count": 274,
   "id": "rapid-charge",
   "metadata": {},
   "outputs": [
    {
     "data": {
      "text/plain": [
       "<tf.Tensor: shape=(), dtype=float32, numpy=270.76453>"
      ]
     },
     "execution_count": 274,
     "metadata": {},
     "output_type": "execute_result"
    }
   ],
   "source": [
    "tf.reduce_sum(W)"
   ]
  },
  {
   "cell_type": "code",
   "execution_count": 275,
   "id": "cardiac-faith",
   "metadata": {},
   "outputs": [],
   "source": [
    "b = tf.random.uniform(\n",
    "    shape = (1,500), maxval=1.,\n",
    "    dtype=tf.float32\n",
    ")"
   ]
  },
  {
   "cell_type": "code",
   "execution_count": 276,
   "id": "caroline-highway",
   "metadata": {},
   "outputs": [],
   "source": [
    "b = tf.Variable(b)"
   ]
  },
  {
   "cell_type": "code",
   "execution_count": 277,
   "id": "assisted-shore",
   "metadata": {},
   "outputs": [],
   "source": [
    "W1 = tf.random.uniform(\n",
    "    shape = (500,1), maxval=1.,\n",
    "    dtype=tf.float32\n",
    ")"
   ]
  },
  {
   "cell_type": "code",
   "execution_count": 278,
   "id": "bizarre-democracy",
   "metadata": {},
   "outputs": [],
   "source": [
    "W1 = tf.Variable(W1)"
   ]
  },
  {
   "cell_type": "code",
   "execution_count": 279,
   "id": "original-intention",
   "metadata": {},
   "outputs": [],
   "source": [
    "b1 = tf.constant(1.)"
   ]
  },
  {
   "cell_type": "code",
   "execution_count": 280,
   "id": "decimal-living",
   "metadata": {},
   "outputs": [],
   "source": [
    "b1 = tf.Variable(b1)"
   ]
  },
  {
   "cell_type": "code",
   "execution_count": 281,
   "id": "rotary-robert",
   "metadata": {},
   "outputs": [],
   "source": [
    "from tqdm import tqdm_notebook"
   ]
  },
  {
   "cell_type": "code",
   "execution_count": 282,
   "id": "useful-ceramic",
   "metadata": {},
   "outputs": [],
   "source": [
    "lr = 0.0001"
   ]
  },
  {
   "cell_type": "code",
   "execution_count": 283,
   "id": "beneficial-benefit",
   "metadata": {},
   "outputs": [],
   "source": [
    "loss_data = []"
   ]
  },
  {
   "cell_type": "markdown",
   "id": "equipped-response",
   "metadata": {},
   "source": [
    "### The Optimization Step"
   ]
  },
  {
   "cell_type": "markdown",
   "id": "burning-clock",
   "metadata": {},
   "source": [
    "##### We optimize the Network by calculating the loss (`rmse`) and calculating the gradient of the loss with the defined weights"
   ]
  },
  {
   "cell_type": "code",
   "execution_count": 338,
   "id": "active-template",
   "metadata": {
    "scrolled": true
   },
   "outputs": [
    {
     "name": "stderr",
     "output_type": "stream",
     "text": [
      "/home/bxm200000/anaconda3/envs/bert_keyword/lib/python3.7/site-packages/ipykernel_launcher.py:1: TqdmDeprecationWarning: This function will be removed in tqdm==5.0.0\n",
      "Please use `tqdm.notebook.tqdm` instead of `tqdm.tqdm_notebook`\n",
      "  \"\"\"Entry point for launching an IPython kernel.\n"
     ]
    },
    {
     "data": {
      "application/vnd.jupyter.widget-view+json": {
       "model_id": "f893be6669664b1289a0e427b8f7cf16",
       "version_major": 2,
       "version_minor": 0
      },
      "text/plain": [
       "  0%|          | 0/5 [00:00<?, ?it/s]"
      ]
     },
     "metadata": {},
     "output_type": "display_data"
    },
    {
     "name": "stdout",
     "output_type": "stream",
     "text": [
      "loss: tf.Tensor(0.6112833, shape=(), dtype=float32)\n",
      "loss: tf.Tensor(0.61126995, shape=(), dtype=float32)\n",
      "loss: tf.Tensor(0.61125976, shape=(), dtype=float32)\n",
      "loss: tf.Tensor(0.61124873, shape=(), dtype=float32)\n",
      "loss: tf.Tensor(0.61124, shape=(), dtype=float32)\n"
     ]
    }
   ],
   "source": [
    "for _ in tqdm_notebook(range(5)):\n",
    "    \n",
    "    \n",
    "    with tf.GradientTape(persistent=True) as tape:\n",
    "        tape.watch([W, W1, b1, b])\n",
    "        hidden_one = tf.matmul(\n",
    "            tf.constant(x, shape=(10000,1), dtype = tf.float32), W) + b\n",
    "\n",
    "        hidden_out = tf.math.tanh(hidden_one)\n",
    "\n",
    "        output = tf.squeeze(tf.matmul(hidden_out, W1) + b1)\n",
    "\n",
    "        diff = output - tf.constant(y, shape=(10000,), dtype = tf.float32) \n",
    "        l = tf.math.sqrt(diff*diff)\n",
    "#         print(l)\n",
    "        loss = tf.reduce_mean(l)\n",
    "        loss = tf.reduce_mean(tf.square(output - tf.constant(y, shape=(10000,), dtype = tf.float32)))\n",
    "        print(\"loss:\", loss)\n",
    "        loss_data.append(loss.numpy())\n",
    "    #update\n",
    "    W.assign_sub(lr*tape.gradient(loss, W))\n",
    "    b.assign_sub(lr*tape.gradient(loss, b))\n",
    "    W1.assign_sub(lr*tape.gradient(loss, W1))\n",
    "    b1.assign_sub(lr*tape.gradient(loss, b1))\n",
    "#     W = W - lr*tape.gradient(loss, W)\n",
    "#     b = b - lr*tape.gradient(loss, b)\n",
    "#     W1 = W1 - lr*tape.gradient(loss, W1)\n",
    "#     b1 = b1 - lr*tape.gradient(loss, b1)\n",
    "#     print(tf.reduce_sum(W))"
   ]
  },
  {
   "cell_type": "code",
   "execution_count": 339,
   "id": "perfect-billion",
   "metadata": {},
   "outputs": [
    {
     "data": {
      "image/png": "[encoded data removed]",
      "text/plain": [
       "<Figure size 432x288 with 1 Axes>"
      ]
     },
     "metadata": {
      "needs_background": "light"
     },
     "output_type": "display_data"
    }
   ],
   "source": [
    "# Plot all the data\n",
    "import matplotlib.pyplot as plt\n",
    "\n",
    "plt.scatter(list(range(len(loss_data) -1)), loss_data[1:], c=\"b\")\n",
    "plt.show()"
   ]
  },
  {
   "cell_type": "code",
   "execution_count": 340,
   "id": "fifteen-radius",
   "metadata": {},
   "outputs": [
    {
     "data": {
      "text/plain": [
       "46005"
      ]
     },
     "execution_count": 340,
     "metadata": {},
     "output_type": "execute_result"
    }
   ],
   "source": [
    "len(loss_data)"
   ]
  },
  {
   "cell_type": "markdown",
   "id": "concrete-society",
   "metadata": {},
   "source": [
    "##### We run the loop total 46005 times"
   ]
  },
  {
   "cell_type": "markdown",
   "id": "prompt-romance",
   "metadata": {},
   "source": [
    "#### Let's crosscheck the output"
   ]
  },
  {
   "cell_type": "code",
   "execution_count": 336,
   "id": "digital-winter",
   "metadata": {},
   "outputs": [],
   "source": [
    "def output(x):\n",
    "    hidden_one = tf.matmul(\n",
    "        tf.constant(x, shape=(len(x),1), dtype = tf.float32), W) + b\n",
    "\n",
    "    hidden_out = tf.math.tanh(hidden_one)\n",
    "\n",
    "    output = tf.squeeze(tf.matmul(hidden_out, W1) + b1)\n",
    "    return output"
   ]
  },
  {
   "cell_type": "markdown",
   "id": "allied-thesis",
   "metadata": {},
   "source": [
    "#### Initial Outputs"
   ]
  },
  {
   "cell_type": "markdown",
   "id": "olive-convergence",
   "metadata": {},
   "source": [
    "#### We keep on checking the outputs after each 10000 loops and check how close they are to the actual output. Following are the outputs after each check"
   ]
  },
  {
   "cell_type": "code",
   "execution_count": 293,
   "id": "annoying-lithuania",
   "metadata": {},
   "outputs": [
    {
     "data": {
      "text/plain": [
       "<tf.Tensor: shape=(2,), dtype=float32, numpy=array([ 4.57924 , 10.888973], dtype=float32)>"
      ]
     },
     "execution_count": 293,
     "metadata": {},
     "output_type": "execute_result"
    }
   ],
   "source": [
    "output(np.array([1, 2]))"
   ]
  },
  {
   "cell_type": "markdown",
   "id": "coupled-clerk",
   "metadata": {},
   "source": [
    "#### The answer should be [5, 11] and we are pretty close to it. Let's go back and optimize a little a more "
   ]
  },
  {
   "cell_type": "code",
   "execution_count": 297,
   "id": "computational-waters",
   "metadata": {},
   "outputs": [
    {
     "data": {
      "text/plain": [
       "<tf.Tensor: shape=(2,), dtype=float32, numpy=array([ 6.5878315, 11.280268 ], dtype=float32)>"
      ]
     },
     "execution_count": 297,
     "metadata": {},
     "output_type": "execute_result"
    }
   ],
   "source": [
    "output(np.array([1, 2]))"
   ]
  },
  {
   "cell_type": "markdown",
   "id": "southern-religious",
   "metadata": {},
   "source": [
    "#### This is a little more than what we want. Let's optimize a little further to reach the sweet spot"
   ]
  },
  {
   "cell_type": "markdown",
   "id": "mineral-military",
   "metadata": {},
   "source": [
    "### 1"
   ]
  },
  {
   "cell_type": "code",
   "execution_count": 301,
   "id": "interstate-kuwait",
   "metadata": {},
   "outputs": [
    {
     "data": {
      "text/plain": [
       "<tf.Tensor: shape=(2,), dtype=float32, numpy=array([ 7.341418, 11.286435], dtype=float32)>"
      ]
     },
     "execution_count": 301,
     "metadata": {},
     "output_type": "execute_result"
    }
   ],
   "source": [
    "output(np.array([1, 2]))"
   ]
  },
  {
   "cell_type": "code",
   "execution_count": 303,
   "id": "precise-trail",
   "metadata": {},
   "outputs": [
    {
     "data": {
      "text/plain": [
       "<tf.Tensor: shape=(2,), dtype=float32, numpy=array([-8.16433, 19.83773], dtype=float32)>"
      ]
     },
     "execution_count": 303,
     "metadata": {},
     "output_type": "execute_result"
    }
   ],
   "source": [
    "output(np.array([0, 3]))"
   ]
  },
  {
   "cell_type": "markdown",
   "id": "reported-yeast",
   "metadata": {},
   "source": [
    "### 2"
   ]
  },
  {
   "cell_type": "code",
   "execution_count": 308,
   "id": "rough-fluid",
   "metadata": {},
   "outputs": [
    {
     "data": {
      "text/plain": [
       "<tf.Tensor: shape=(2,), dtype=float32, numpy=array([-7.2222586, 19.806597 ], dtype=float32)>"
      ]
     },
     "execution_count": 308,
     "metadata": {},
     "output_type": "execute_result"
    }
   ],
   "source": [
    "output(np.array([0, 3]))"
   ]
  },
  {
   "cell_type": "markdown",
   "id": "exotic-arthritis",
   "metadata": {},
   "source": [
    "### 3"
   ]
  },
  {
   "cell_type": "code",
   "execution_count": 313,
   "id": "confused-preservation",
   "metadata": {},
   "outputs": [
    {
     "data": {
      "text/plain": [
       "<tf.Tensor: shape=(2,), dtype=float32, numpy=array([-2.9739256, 20.79124  ], dtype=float32)>"
      ]
     },
     "execution_count": 313,
     "metadata": {},
     "output_type": "execute_result"
    }
   ],
   "source": [
    "output(np.array([0, 3]))"
   ]
  },
  {
   "cell_type": "markdown",
   "id": "difficult-focus",
   "metadata": {},
   "source": [
    "### 4"
   ]
  },
  {
   "cell_type": "code",
   "execution_count": 318,
   "id": "australian-burning",
   "metadata": {},
   "outputs": [
    {
     "data": {
      "text/plain": [
       "<tf.Tensor: shape=(2,), dtype=float32, numpy=array([-1.5931677, 10.039997 ], dtype=float32)>"
      ]
     },
     "execution_count": 318,
     "metadata": {},
     "output_type": "execute_result"
    }
   ],
   "source": [
    "output(np.array([0, 2]))"
   ]
  },
  {
   "cell_type": "code",
   "execution_count": 320,
   "id": "irish-recorder",
   "metadata": {},
   "outputs": [
    {
     "data": {
      "text/plain": [
       "<tf.Tensor: shape=(4,), dtype=float32, numpy=array([ 5.8381166, 10.039997 , 35.67014  , 74.47184  ], dtype=float32)>"
      ]
     },
     "execution_count": 320,
     "metadata": {},
     "output_type": "execute_result"
    }
   ],
   "source": [
    "output(np.array([1, 2, 4, 6]))"
   ]
  },
  {
   "cell_type": "code",
   "execution_count": 322,
   "id": "alien-thanksgiving",
   "metadata": {},
   "outputs": [
    {
     "data": {
      "text/plain": [
       "<tf.Tensor: shape=(5,), dtype=float32, numpy=\n",
       "array([-1.5931677,  5.8381166, 10.039997 , 35.67014  , 74.47184  ],\n",
       "      dtype=float32)>"
      ]
     },
     "execution_count": 322,
     "metadata": {},
     "output_type": "execute_result"
    }
   ],
   "source": [
    "output(np.array([0, 1, 2, 4, 6]))"
   ]
  },
  {
   "cell_type": "markdown",
   "id": "exciting-gilbert",
   "metadata": {},
   "source": [
    "### 5"
   ]
  },
  {
   "cell_type": "code",
   "execution_count": 332,
   "id": "transparent-interest",
   "metadata": {},
   "outputs": [
    {
     "data": {
      "text/plain": [
       "<tf.Tensor: shape=(6,), dtype=float32, numpy=\n",
       "array([ -1.035438,   5.614952,  10.08251 ,  35.697678,  74.477745,\n",
       "       199.4013  ], dtype=float32)>"
      ]
     },
     "execution_count": 332,
     "metadata": {},
     "output_type": "execute_result"
    }
   ],
   "source": [
    "output(np.array([0, 1, 2, 4, 6, 10]))"
   ]
  },
  {
   "cell_type": "code",
   "execution_count": 333,
   "id": "scheduled-graham",
   "metadata": {},
   "outputs": [
    {
     "data": {
      "text/plain": [
       "[3, 5, 11, 35, 75, 203]"
      ]
     },
     "execution_count": 333,
     "metadata": {},
     "output_type": "execute_result"
    }
   ],
   "source": [
    "[get_y(i) for i in [0, 1, 2, 4, 6, 10]]"
   ]
  },
  {
   "cell_type": "markdown",
   "id": "bottom-picture",
   "metadata": {},
   "source": [
    "### 6"
   ]
  },
  {
   "cell_type": "code",
   "execution_count": 337,
   "id": "behavioral-transmission",
   "metadata": {},
   "outputs": [
    {
     "data": {
      "text/plain": [
       "<tf.Tensor: shape=(6,), dtype=float32, numpy=\n",
       "array([ -0.7139498,   5.501662 ,  10.15973  ,  35.665886 ,  74.504395 ,\n",
       "       199.73715  ], dtype=float32)>"
      ]
     },
     "execution_count": 337,
     "metadata": {},
     "output_type": "execute_result"
    }
   ],
   "source": [
    "output(np.array([0, 1, 2, 4, 6, 10]))"
   ]
  },
  {
   "cell_type": "markdown",
   "id": "ordinary-white",
   "metadata": {},
   "source": [
    "#### We are pretty close to the actual output. We have been able to optimize the DNN only using the low level APIs of tensorflow"
   ]
  },
  {
   "cell_type": "code",
   "execution_count": null,
   "id": "looking-connecticut",
   "metadata": {},
   "outputs": [],
   "source": []
  }
 ],
 "metadata": {
  "kernelspec": {
   "display_name": "bert_keyword",
   "language": "python",
   "name": "bert_keyword"
  },
  "language_info": {
   "codemirror_mode": {
    "name": "ipython",
    "version": 3
   },
   "file_extension": ".py",
   "mimetype": "text/x-python",
   "name": "python",
   "nbconvert_exporter": "python",
   "pygments_lexer": "ipython3",
   "version": "3.7.9"
  }
 },
 "nbformat": 4,
 "nbformat_minor": 5
}
