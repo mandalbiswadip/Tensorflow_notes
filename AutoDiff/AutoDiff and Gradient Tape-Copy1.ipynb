{
 "cells": [
  {
   "cell_type": "markdown",
   "id": "closed-photograph",
   "metadata": {},
   "source": [
    "## <center>Automatic Differentiation</center>"
   ]
  },
  {
   "cell_type": "code",
   "execution_count": 1,
   "id": "toxic-combination",
   "metadata": {},
   "outputs": [],
   "source": [
    "import tensorflow as tf\n",
    "import numpy as np"
   ]
  },
  {
   "cell_type": "code",
   "execution_count": 2,
   "id": "careful-participant",
   "metadata": {},
   "outputs": [],
   "source": [
    "x = tf.Variable(100.0)"
   ]
  },
  {
   "cell_type": "markdown",
   "id": "flexible-exhibit",
   "metadata": {},
   "source": [
    "You can think of ```GradientTape``` as a recorder or a tape that records or watches the operations(or equations to be more generic)"
   ]
  },
  {
   "cell_type": "code",
   "execution_count": 3,
   "id": "respective-thanksgiving",
   "metadata": {},
   "outputs": [],
   "source": [
    "with tf.GradientTape() as tape:\n",
    "    \n",
    "    y = x**3"
   ]
  },
  {
   "cell_type": "markdown",
   "id": "marine-visit",
   "metadata": {},
   "source": [
    "Now we can compute the gradient of `y` with respect to `x` at `x=100`"
   ]
  },
  {
   "cell_type": "code",
   "execution_count": 4,
   "id": "imperial-influence",
   "metadata": {},
   "outputs": [
    {
     "data": {
      "text/plain": [
       "<tf.Tensor: shape=(), dtype=float32, numpy=30000.0>"
      ]
     },
     "execution_count": 4,
     "metadata": {},
     "output_type": "execute_result"
    }
   ],
   "source": [
    "tape.gradient(target=y, sources=x)"
   ]
  },
  {
   "cell_type": "markdown",
   "id": "proper-dallas",
   "metadata": {},
   "source": [
    "at `x=100`<br> `dy/dx = 3*x^2 = 3*100^2 = 30000`"
   ]
  },
  {
   "cell_type": "markdown",
   "id": "prerequisite-restoration",
   "metadata": {},
   "source": [
    "We can pass multiple variables and get multiple gradients for each one"
   ]
  },
  {
   "cell_type": "code",
   "execution_count": 5,
   "id": "musical-telling",
   "metadata": {},
   "outputs": [],
   "source": [
    "x = tf.Variable(10.)\n",
    "z = tf.Variable(4.)"
   ]
  },
  {
   "cell_type": "code",
   "execution_count": 6,
   "id": "communist-reception",
   "metadata": {},
   "outputs": [],
   "source": [
    "with tf.GradientTape() as tape:\n",
    "    \n",
    "    y = x**3 + z**2"
   ]
  },
  {
   "cell_type": "code",
   "execution_count": 7,
   "id": "concerned-facility",
   "metadata": {},
   "outputs": [
    {
     "data": {
      "text/plain": [
       "[<tf.Tensor: shape=(), dtype=float32, numpy=300.0>,\n",
       " <tf.Tensor: shape=(), dtype=float32, numpy=8.0>]"
      ]
     },
     "execution_count": 7,
     "metadata": {},
     "output_type": "execute_result"
    }
   ],
   "source": [
    "tape.gradient(target=y, sources=[x, z])"
   ]
  },
  {
   "cell_type": "markdown",
   "id": "unique-california",
   "metadata": {},
   "source": [
    "\n",
    "\n",
    "**partial derivative of y with respect to x = 3xx^2 = 3x10^2 = 300.0**<br>\n",
    "**partial derivative of y with respect to z = 2xz = 2x4 = 8.0**"
   ]
  },
  {
   "cell_type": "markdown",
   "id": "killing-strategy",
   "metadata": {},
   "source": [
    "The gradients can be calculated with respect to multi dimensional arrays as well"
   ]
  },
  {
   "cell_type": "code",
   "execution_count": 8,
   "id": "composite-gamma",
   "metadata": {},
   "outputs": [
    {
     "data": {
      "text/plain": [
       "<tf.Variable 'Variable:0' shape=(3, 4) dtype=float64, numpy=\n",
       "array([[0.41807756, 0.23889053, 0.07953801, 0.01519363],\n",
       "       [0.81141726, 0.9226053 , 0.68875853, 0.74529282],\n",
       "       [0.59713035, 0.05598551, 0.97899269, 0.10766788]])>"
      ]
     },
     "execution_count": 8,
     "metadata": {},
     "output_type": "execute_result"
    }
   ],
   "source": [
    "x = tf.Variable(np.random.random((3,4)))\n",
    "x"
   ]
  },
  {
   "cell_type": "code",
   "execution_count": 9,
   "id": "laden-foster",
   "metadata": {},
   "outputs": [],
   "source": [
    "with tf.GradientTape() as tape:\n",
    "    \n",
    "    y = x**2"
   ]
  },
  {
   "cell_type": "code",
   "execution_count": 10,
   "id": "helpful-proxy",
   "metadata": {},
   "outputs": [
    {
     "data": {
      "text/plain": [
       "<tf.Tensor: shape=(3, 4), dtype=float64, numpy=\n",
       "array([[0.83615511, 0.47778106, 0.15907603, 0.03038727],\n",
       "       [1.62283451, 1.84521061, 1.37751705, 1.49058564],\n",
       "       [1.1942607 , 0.11197101, 1.95798538, 0.21533575]])>"
      ]
     },
     "execution_count": 10,
     "metadata": {},
     "output_type": "execute_result"
    }
   ],
   "source": [
    "tape.gradient(target=y, sources=x)"
   ]
  },
  {
   "cell_type": "markdown",
   "id": "destroyed-funds",
   "metadata": {},
   "source": [
    "The gradient refers to the following matrix"
   ]
  },
  {
   "cell_type": "markdown",
   "id": "contemporary-neutral",
   "metadata": {},
   "source": [
    "## Example of Gradient Descent "
   ]
  },
  {
   "cell_type": "markdown",
   "id": "vocational-poultry",
   "metadata": {},
   "source": [
    "We try to optimize the following functions using gradient tapes: `y = 4x^4 - 3*x^3 - 3*x^2`"
   ]
  },
  {
   "cell_type": "code",
   "execution_count": 111,
   "id": "complimentary-endorsement",
   "metadata": {},
   "outputs": [],
   "source": [
    "from tqdm import tqdm_notebook"
   ]
  },
  {
   "cell_type": "code",
   "execution_count": 112,
   "id": "diverse-alexander",
   "metadata": {},
   "outputs": [],
   "source": [
    "lr = 0.0001"
   ]
  },
  {
   "cell_type": "code",
   "execution_count": 113,
   "id": "continent-proxy",
   "metadata": {},
   "outputs": [],
   "source": [
    "x_data = []\n",
    "y_data = []"
   ]
  },
  {
   "cell_type": "code",
   "execution_count": 114,
   "id": "settled-decimal",
   "metadata": {},
   "outputs": [],
   "source": [
    "lr = 0.001"
   ]
  },
  {
   "cell_type": "code",
   "execution_count": 115,
   "id": "spare-annotation",
   "metadata": {},
   "outputs": [],
   "source": [
    "x = tf.Variable(-0.1)\n",
    "# z = tf.Variable(3.0)"
   ]
  },
  {
   "cell_type": "code",
   "execution_count": 116,
   "id": "olympic-flashing",
   "metadata": {},
   "outputs": [
    {
     "name": "stderr",
     "output_type": "stream",
     "text": [
      "/home/bxm200000/anaconda3/envs/bert_keyword/lib/python3.7/site-packages/ipykernel_launcher.py:1: TqdmDeprecationWarning: This function will be removed in tqdm==5.0.0\n",
      "Please use `tqdm.notebook.tqdm` instead of `tqdm.tqdm_notebook`\n",
      "  \"\"\"Entry point for launching an IPython kernel.\n"
     ]
    },
    {
     "data": {
      "application/vnd.jupyter.widget-view+json": {
       "model_id": "fc9caa11f95c471f8db3173607ee4d9e",
       "version_major": 2,
       "version_minor": 0
      },
      "text/plain": [
       "  0%|          | 0/10000 [00:00<?, ?it/s]"
      ]
     },
     "metadata": {},
     "output_type": "display_data"
    }
   ],
   "source": [
    "for _ in tqdm_notebook(range(10000)):\n",
    "    with tf.GradientTape() as tape:\n",
    "        tape.watch([x])\n",
    "#         y = 4*x**2 + 100\n",
    "        y = 4*x**4 - 3*x**3 - 3*x**2\n",
    "\n",
    "    \n",
    "    grad = tape.gradient(y,x)\n",
    "    x = x - lr*grad\n",
    "#     z = z - lr*z_grad\n",
    "\n",
    "    x_data.append(x.numpy())\n",
    "    y_data.append(y.numpy())"
   ]
  },
  {
   "cell_type": "code",
   "execution_count": 117,
   "id": "higher-mother",
   "metadata": {},
   "outputs": [
    {
     "data": {
      "text/plain": [
       "<tf.Tensor: shape=(), dtype=float32, numpy=-0.18583429>"
      ]
     },
     "execution_count": 117,
     "metadata": {},
     "output_type": "execute_result"
    }
   ],
   "source": [
    "y"
   ]
  },
  {
   "cell_type": "code",
   "execution_count": 118,
   "id": "wrong-department",
   "metadata": {},
   "outputs": [
    {
     "data": {
      "text/plain": [
       "<tf.Tensor: shape=(), dtype=float32, numpy=-0.39261883>"
      ]
     },
     "execution_count": 118,
     "metadata": {},
     "output_type": "execute_result"
    }
   ],
   "source": [
    "x"
   ]
  },
  {
   "cell_type": "markdown",
   "id": "planned-documentary",
   "metadata": {},
   "source": [
    "### Plot"
   ]
  },
  {
   "cell_type": "code",
   "execution_count": 119,
   "id": "abroad-portal",
   "metadata": {},
   "outputs": [],
   "source": [
    "import numpy as np\n",
    "import matplotlib.pyplot as plt\n",
    "import seaborn as sns\n",
    "sns.set()\n",
    "plt.rcParams[\"figure.figsize\"] = (15,10)\n",
    "%matplotlib inline"
   ]
  },
  {
   "cell_type": "code",
   "execution_count": 120,
   "id": "meaning-control",
   "metadata": {},
   "outputs": [
    {
     "data": {
      "text/plain": [
       "<matplotlib.collections.PathCollection at 0x7f4afc07f6d0>"
      ]
     },
     "execution_count": 120,
     "metadata": {},
     "output_type": "execute_result"
    },
    {
     "data": {
      "image/png": "[encoded data removed]",
      "text/plain": [
       "<Figure size 432x288 with 1 Axes>"
      ]
     },
     "metadata": {
      "needs_background": "light"
     },
     "output_type": "display_data"
    }
   ],
   "source": [
    "plt.scatter(x_data, y_data, alpha=0.5)\n",
    "# plt.show()"
   ]
  },
  {
   "cell_type": "code",
   "execution_count": 121,
   "id": "bronze-conspiracy",
   "metadata": {},
   "outputs": [
    {
     "data": {
      "text/plain": [
       "<tf.Tensor: shape=(), dtype=float32, numpy=-0.18583429>"
      ]
     },
     "execution_count": 121,
     "metadata": {},
     "output_type": "execute_result"
    }
   ],
   "source": [
    "y"
   ]
  },
  {
   "cell_type": "code",
   "execution_count": 122,
   "id": "lyric-parts",
   "metadata": {},
   "outputs": [
    {
     "data": {
      "text/plain": [
       "<tf.Tensor: shape=(), dtype=float32, numpy=-0.39261883>"
      ]
     },
     "execution_count": 122,
     "metadata": {},
     "output_type": "execute_result"
    }
   ],
   "source": [
    "x"
   ]
  },
  {
   "cell_type": "code",
   "execution_count": null,
   "id": "understanding-seminar",
   "metadata": {},
   "outputs": [],
   "source": []
  },
  {
   "cell_type": "code",
   "execution_count": null,
   "id": "occupational-choice",
   "metadata": {},
   "outputs": [],
   "source": []
  },
  {
   "cell_type": "code",
   "execution_count": 124,
   "id": "elementary-satellite",
   "metadata": {},
   "outputs": [
    {
     "data": {
      "text/plain": [
       "<tf.Tensor: shape=(), dtype=float32, numpy=5.0990195>"
      ]
     },
     "execution_count": 124,
     "metadata": {},
     "output_type": "execute_result"
    }
   ],
   "source": [
    "tf.norm(tf.Variable([-3., 1]) - tf.Variable([2., 0]))"
   ]
  },
  {
   "cell_type": "code",
   "execution_count": 141,
   "id": "curious-bargain",
   "metadata": {},
   "outputs": [
    {
     "name": "stdout",
     "output_type": "stream",
     "text": [
      "kk\n"
     ]
    }
   ],
   "source": [
    "if tf.norm(tf.random.normal(\n",
    "    shape=tf.Variable([1.,2.]).shape, mean=0.0, stddev=1.0, dtype=tf.dtypes.float32, seed=None, name=None\n",
    ") - tf.Variable([1.,2.])) < 0.5:\n",
    "    print(\"yo\")\n",
    "else:\n",
    "    print(\"kk\")"
   ]
  },
  {
   "cell_type": "code",
   "execution_count": 134,
   "id": "alternative-final",
   "metadata": {},
   "outputs": [
    {
     "data": {
      "text/plain": [
       "<tf.Variable 'Variable:0' shape=(2,) dtype=float32, numpy=array([1., 2.], dtype=float32)>"
      ]
     },
     "execution_count": 134,
     "metadata": {},
     "output_type": "execute_result"
    }
   ],
   "source": [
    "tf.Variable([1.,2.])"
   ]
  },
  {
   "cell_type": "code",
   "execution_count": 153,
   "id": "imposed-curve",
   "metadata": {},
   "outputs": [],
   "source": [
    "a = tf.constant([3.53,1.])"
   ]
  },
  {
   "cell_type": "code",
   "execution_count": 154,
   "id": "determined-default",
   "metadata": {},
   "outputs": [
    {
     "data": {
      "text/plain": [
       "array([3.53, 1.  ], dtype=float32)"
      ]
     },
     "execution_count": 154,
     "metadata": {},
     "output_type": "execute_result"
    }
   ],
   "source": [
    "a.numpy()"
   ]
  },
  {
   "cell_type": "code",
   "execution_count": 155,
   "id": "apparent-notion",
   "metadata": {},
   "outputs": [
    {
     "data": {
      "text/plain": [
       "array([3.53, 1.  ], dtype=float32)"
      ]
     },
     "execution_count": 155,
     "metadata": {},
     "output_type": "execute_result"
    }
   ],
   "source": [
    "a.numpy()"
   ]
  },
  {
   "cell_type": "code",
   "execution_count": 156,
   "id": "manual-paintball",
   "metadata": {},
   "outputs": [
    {
     "data": {
      "text/plain": [
       "<tf.Tensor: shape=(2,), dtype=float32, numpy=array([3.53, 1.  ], dtype=float32)>"
      ]
     },
     "execution_count": 156,
     "metadata": {},
     "output_type": "execute_result"
    }
   ],
   "source": [
    "a"
   ]
  },
  {
   "cell_type": "code",
   "execution_count": 171,
   "id": "included-saskatchewan",
   "metadata": {},
   "outputs": [
    {
     "data": {
      "text/plain": [
       "<tf.Tensor: shape=(2,), dtype=float32, numpy=array([0.1622798, 0.8268807], dtype=float32)>"
      ]
     },
     "execution_count": 171,
     "metadata": {},
     "output_type": "execute_result"
    }
   ],
   "source": [
    "tf.random.normal(\n",
    "        shape=a.shape, mean=[0.0, 0.0],\n",
    "        stddev=20/6.,\n",
    "        dtype=tf.dtypes.float32, seed=None\n",
    "    )"
   ]
  },
  {
   "cell_type": "code",
   "execution_count": null,
   "id": "executive-aquatic",
   "metadata": {},
   "outputs": [],
   "source": []
  }
 ],
 "metadata": {
  "kernelspec": {
   "display_name": "bert_keyword",
   "language": "python",
   "name": "bert_keyword"
  },
  "language_info": {
   "codemirror_mode": {
    "name": "ipython",
    "version": 3
   },
   "file_extension": ".py",
   "mimetype": "text/x-python",
   "name": "python",
   "nbconvert_exporter": "python",
   "pygments_lexer": "ipython3",
   "version": "3.7.9"
  }
 },
 "nbformat": 4,
 "nbformat_minor": 5
}
