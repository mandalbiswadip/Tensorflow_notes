{
 "cells": [
  {
   "cell_type": "markdown",
   "id": "professional-hunger",
   "metadata": {},
   "source": [
    "## <center>Automatic Differentiation</center>"
   ]
  },
  {
   "cell_type": "markdown",
   "id": "scientific-occasions",
   "metadata": {},
   "source": [
    "Calculating gradients are crucials in Machine Learning as they are necessary for optimizing the loss functions. There are few ways of calculating the gradients:"
   ]
  },
  {
   "cell_type": "markdown",
   "id": "ongoing-joseph",
   "metadata": {},
   "source": [
    "<u>**Symbolic Differentiation**</u>\n",
    "Symbolic differentiations are the most common way of calculating gradients. You can apply the law of derivatives to differentiate a function and get the derivative functions. Here is how a typical result for symbolic differentiation look like. As I menetioned, they can be calucalted by doing tedius calculations. Softwares like Mathematica use this particular method. \n",
    "\n",
    "![Images](https://raw.githubusercontent.com/mandalbiswadip/Tensorflow_two_notes/master/resources/symbolic_diff.png?token=AEG7MVC4BTST4SBGJIN47VLAJL22C)\n",
    "\n",
    "**Source: [Mathematica](https://www.wolfram.com/mathematica/)**<br><br>"
   ]
  },
  {
   "cell_type": "markdown",
   "id": "polar-asset",
   "metadata": {},
   "source": [
    "**<u>Numerical Differentiation</u>**\n",
    "Numerical differentitation is another technique to estimate gradients. The simplest and most popular way is to use the **finite difference** method:\n",
    "![finite difference](https://raw.githubusercontent.com/mandalbiswadip/Tensorflow_two_notes/master/resources/finite_difference.png?token=AEG7MVA4MEVSHQVFDZP4RHDAJL234)\n",
    "\n",
    "Source: [Wikipedia](https://en.wikipedia.org/wiki/Finite_difference_method)\n",
    "\n",
    "If one uses a small enough `h`, gradient at point `x=a` can be estimated. Note that we don't have to actually differentiate the function like we do for symbolic differentiation. We just need to know the value of `f(x)` in the neighbourhood of `a`"
   ]
  },
  {
   "cell_type": "markdown",
   "id": "subjective-franklin",
   "metadata": {},
   "source": [
    "**What is Automatic Differentiation ?**\n",
    "\n",
    "Automatic Differentiation is a technique to calculate gradients. This is done in tensorflow using the computational graph. Each **node** in the graph represent a tensorflow operation and edges represent tensors. It is possible using the **chain rule** of differentiation to calculate local gradients of each node and multiply the gradients using the chain rule to get the actual gradient. \n",
    "\n",
    "Here is an example. Its shows how automatic differentitation is calculated and flows through for using the **chain rule**\n",
    "\n",
    "\n",
    "![Images](https://raw.githubusercontent.com/mandalbiswadip/Tensorflow_two_notes/master/resources/derivative_autodiff.png?token=AEG7MVH5IWWF4CRIUAMV26TAJL25S)\n"
   ]
  },
  {
   "cell_type": "markdown",
   "id": "terminal-palestinian",
   "metadata": {},
   "source": [
    "## Using AutoDiff"
   ]
  },
  {
   "cell_type": "markdown",
   "id": "photographic-cyprus",
   "metadata": {},
   "source": [
    "### **Gradient Tapes**\n",
    "\n",
    "Gradient tapes are essential to computing gradients in tensorflow\n",
    "\n"
   ]
  },
  {
   "cell_type": "code",
   "execution_count": 34,
   "id": "written-prime",
   "metadata": {},
   "outputs": [],
   "source": [
    "import tensorflow as tf\n",
    "import numpy as np"
   ]
  },
  {
   "cell_type": "code",
   "execution_count": 16,
   "id": "amended-painting",
   "metadata": {},
   "outputs": [],
   "source": [
    "x = tf.Variable(100.0)"
   ]
  },
  {
   "cell_type": "markdown",
   "id": "authentic-shelf",
   "metadata": {},
   "source": [
    "You can think of ```GradientTape``` as a recorder or a tape that records or watches the operations(or equations to be more generic)"
   ]
  },
  {
   "cell_type": "code",
   "execution_count": 19,
   "id": "collective-sampling",
   "metadata": {},
   "outputs": [],
   "source": [
    "with tf.GradientTape() as tape:\n",
    "    \n",
    "    y = x**3"
   ]
  },
  {
   "cell_type": "markdown",
   "id": "precious-ability",
   "metadata": {},
   "source": [
    "Now we can compute the gradient of `y` with respect to `x` at `x=100`"
   ]
  },
  {
   "cell_type": "code",
   "execution_count": 21,
   "id": "major-spoke",
   "metadata": {},
   "outputs": [
    {
     "data": {
      "text/plain": [
       "<tf.Tensor: shape=(), dtype=float32, numpy=30000.0>"
      ]
     },
     "execution_count": 21,
     "metadata": {},
     "output_type": "execute_result"
    }
   ],
   "source": [
    "tape.gradient(target=y, sources=x)"
   ]
  },
  {
   "cell_type": "markdown",
   "id": "shared-enforcement",
   "metadata": {},
   "source": [
    "at `x=100`<br> `dy/dx = 3*x^2 = 3*100^2 = 30000`"
   ]
  },
  {
   "cell_type": "markdown",
   "id": "peaceful-journalism",
   "metadata": {},
   "source": [
    "We can pass multiple variables and get multiple gradients for each one"
   ]
  },
  {
   "cell_type": "code",
   "execution_count": 30,
   "id": "impressive-pastor",
   "metadata": {},
   "outputs": [],
   "source": [
    "x = tf.Variable(10.)\n",
    "z = tf.Variable(4.)"
   ]
  },
  {
   "cell_type": "code",
   "execution_count": 31,
   "id": "confused-immune",
   "metadata": {},
   "outputs": [],
   "source": [
    "with tf.GradientTape() as tape:\n",
    "    \n",
    "    y = x**3 + z**2"
   ]
  },
  {
   "cell_type": "code",
   "execution_count": 32,
   "id": "editorial-alabama",
   "metadata": {},
   "outputs": [
    {
     "data": {
      "text/plain": [
       "[<tf.Tensor: shape=(), dtype=float32, numpy=300.0>,\n",
       " <tf.Tensor: shape=(), dtype=float32, numpy=8.0>]"
      ]
     },
     "execution_count": 32,
     "metadata": {},
     "output_type": "execute_result"
    }
   ],
   "source": [
    "tape.gradient(target=y, sources=[x, z])"
   ]
  },
  {
   "cell_type": "markdown",
   "id": "filled-opinion",
   "metadata": {},
   "source": [
    "\n",
    "\n",
    "**partial derivative of y with respect to x = 3xx^2 = 3x10^2 = 300.0**<br>\n",
    "**partial derivative of y with respect to z = 2xz = 2x4 = 8.0**"
   ]
  },
  {
   "cell_type": "markdown",
   "id": "first-circle",
   "metadata": {},
   "source": [
    "The gradients can be calculated with respect to multi dimensional arrays as well"
   ]
  },
  {
   "cell_type": "code",
   "execution_count": 41,
   "id": "rational-trash",
   "metadata": {},
   "outputs": [
    {
     "data": {
      "text/plain": [
       "<tf.Variable 'Variable:0' shape=(3, 4) dtype=float64, numpy=\n",
       "array([[0.85733164, 0.72450839, 0.01000471, 0.53435523],\n",
       "       [0.8112967 , 0.8668377 , 0.02962584, 0.92548695],\n",
       "       [0.77581414, 0.59835021, 0.65323683, 0.44299535]])>"
      ]
     },
     "execution_count": 41,
     "metadata": {},
     "output_type": "execute_result"
    }
   ],
   "source": [
    "x = tf.Variable(np.random.random((3,4)))\n",
    "x"
   ]
  },
  {
   "cell_type": "code",
   "execution_count": 43,
   "id": "killing-planning",
   "metadata": {},
   "outputs": [],
   "source": [
    "with tf.GradientTape() as tape:\n",
    "    \n",
    "    y = x**2"
   ]
  },
  {
   "cell_type": "code",
   "execution_count": 45,
   "id": "czech-region",
   "metadata": {},
   "outputs": [
    {
     "data": {
      "text/plain": [
       "<tf.Tensor: shape=(3, 4), dtype=float64, numpy=\n",
       "array([[1.71466328, 1.44901678, 0.02000943, 1.06871045],\n",
       "       [1.6225934 , 1.7336754 , 0.05925167, 1.85097391],\n",
       "       [1.55162829, 1.19670042, 1.30647367, 0.8859907 ]])>"
      ]
     },
     "execution_count": 45,
     "metadata": {},
     "output_type": "execute_result"
    }
   ],
   "source": [
    "tape.gradient(target=y, sources=x)"
   ]
  },
  {
   "cell_type": "markdown",
   "id": "artificial-antarctica",
   "metadata": {},
   "source": [
    "The gradient refers to the following matrix"
   ]
  },
  {
   "cell_type": "markdown",
   "id": "governing-cargo",
   "metadata": {},
   "source": [
    "\n",
    "![Images](../resources/download.png)\n"
   ]
  },
  {
   "cell_type": "markdown",
   "id": "close-livestock",
   "metadata": {},
   "source": [
    "The gradient shape will be the Variable shape. In this case it's `(3,4)`"
   ]
  },
  {
   "cell_type": "markdown",
   "id": "virtual-festival",
   "metadata": {},
   "source": [
    "## tf.GradientTape.watch()"
   ]
  },
  {
   "cell_type": "markdown",
   "id": "warming-causing",
   "metadata": {},
   "source": [
    "`tf.GradientTape.watch` is used if you want to calculate gradients for `Tensors`"
   ]
  },
  {
   "cell_type": "code",
   "execution_count": 73,
   "id": "decimal-professor",
   "metadata": {},
   "outputs": [],
   "source": [
    "x = tf.constant(3.0)"
   ]
  },
  {
   "cell_type": "code",
   "execution_count": 74,
   "id": "fancy-activity",
   "metadata": {},
   "outputs": [
    {
     "data": {
      "text/plain": [
       "<tf.Tensor: shape=(), dtype=float32, numpy=27.0>"
      ]
     },
     "execution_count": 74,
     "metadata": {},
     "output_type": "execute_result"
    }
   ],
   "source": [
    "with tf.GradientTape() as tape:\n",
    "    tape.watch(x)\n",
    "    y = x**3\n",
    "\n",
    "tape.gradient(y,x)"
   ]
  },
  {
   "cell_type": "markdown",
   "id": "southwest-manner",
   "metadata": {},
   "source": [
    "### Important Flags"
   ]
  },
  {
   "cell_type": "markdown",
   "id": "acknowledged-semiconductor",
   "metadata": {},
   "source": [
    "`watch_accessed_variables`:<br>\n",
    "By setting this variable False, you can bypass the defualt behaviour of considering all `tf.Variable`s for gradient. You can manually watch variable to using `tf.GradientTape.watch(x)`"
   ]
  },
  {
   "cell_type": "markdown",
   "id": "respected-least",
   "metadata": {},
   "source": [
    "For example,"
   ]
  },
  {
   "cell_type": "code",
   "execution_count": 67,
   "id": "interesting-perfume",
   "metadata": {},
   "outputs": [],
   "source": [
    "\n",
    "x = tf.Variable(1.)\n",
    "y = tf.Variable(20.)\n",
    "\n",
    "with tf.GradientTape(watch_accessed_variables=False) as tape:\n",
    "    tape.watch(x)\n",
    "    f = 3*y**2 + 4*x**3"
   ]
  },
  {
   "cell_type": "markdown",
   "id": "congressional-safety",
   "metadata": {},
   "source": [
    "The following will produce valid output \n",
    "```\n",
    "tape.gradient(target=f, sources=x)\n",
    ">> <tf.Tensor: shape=(), dtype=float32, numpy=12.0>\n",
    "```\n",
    "While this will raise an error\n",
    "```\n",
    "tape.gradient(target=f, sources=y)\n",
    "```"
   ]
  },
  {
   "cell_type": "markdown",
   "id": "polyphonic-excerpt",
   "metadata": {},
   "source": [
    "`persistent`<br>\n",
    "If you want to use the same tape to calculate the gradient multiple times using the `persistent = True` flag"
   ]
  },
  {
   "cell_type": "markdown",
   "id": "acquired-notification",
   "metadata": {},
   "source": [
    "#### **If the target variable is matrix, GradientTape computes the gradient with respect to sum of the target variable**"
   ]
  },
  {
   "cell_type": "code",
   "execution_count": 79,
   "id": "mechanical-sudan",
   "metadata": {},
   "outputs": [],
   "source": [
    "x = tf.Variable(5.)\n",
    "\n",
    "with tf.GradientTape() as tape:\n",
    "     y = [3., 4.]*x"
   ]
  },
  {
   "cell_type": "code",
   "execution_count": 81,
   "id": "strange-findings",
   "metadata": {},
   "outputs": [
    {
     "data": {
      "text/plain": [
       "<tf.Tensor: shape=(), dtype=float32, numpy=7.0>"
      ]
     },
     "execution_count": 81,
     "metadata": {},
     "output_type": "execute_result"
    }
   ],
   "source": [
    "tape.gradient(target=y, sources=x)"
   ]
  },
  {
   "cell_type": "markdown",
   "id": "legislative-audience",
   "metadata": {},
   "source": [
    "### Important Note:\n",
    "**Control flow**\n",
    "\n",
    "As the gradients of the operations are calculated independently, control flow can handled by gradient tapes"
   ]
  },
  {
   "cell_type": "markdown",
   "id": "gothic-tunisia",
   "metadata": {},
   "source": [
    "## Example of Gradient Descent "
   ]
  },
  {
   "cell_type": "markdown",
   "id": "conservative-purchase",
   "metadata": {},
   "source": [
    "We try to optimize the following functions using gradient tapes: `y = 4x^2 + 100`"
   ]
  },
  {
   "cell_type": "code",
   "execution_count": 85,
   "id": "pointed-supervisor",
   "metadata": {},
   "outputs": [],
   "source": [
    "lr = 0.0001"
   ]
  },
  {
   "cell_type": "code",
   "execution_count": 86,
   "id": "violent-pointer",
   "metadata": {},
   "outputs": [],
   "source": [
    "x_data = []\n",
    "y_data = []"
   ]
  },
  {
   "cell_type": "code",
   "execution_count": 87,
   "id": "dutch-berry",
   "metadata": {},
   "outputs": [],
   "source": [
    "lr = 0.00001"
   ]
  },
  {
   "cell_type": "code",
   "execution_count": 114,
   "id": "permanent-colon",
   "metadata": {},
   "outputs": [],
   "source": [
    "x = tf.Variable(5.)"
   ]
  },
  {
   "cell_type": "code",
   "execution_count": 119,
   "id": "vital-lesson",
   "metadata": {},
   "outputs": [],
   "source": [
    "for _ in range(10000):\n",
    "    with tf.GradientTape() as tape:\n",
    "        tape.watch(x)\n",
    "        y = 4*x**2 + 100\n",
    "    \n",
    "    grad = tape.gradient(y,x)\n",
    "    x = x - lr*grad\n",
    "    x_data.append(x.numpy())\n",
    "    y_data.append(y.numpy())"
   ]
  },
  {
   "cell_type": "code",
   "execution_count": 140,
   "id": "raising-adelaide",
   "metadata": {},
   "outputs": [
    {
     "data": {
      "text/plain": [
       "<tf.Tensor: shape=(), dtype=float32, numpy=100.23665>"
      ]
     },
     "execution_count": 140,
     "metadata": {},
     "output_type": "execute_result"
    }
   ],
   "source": [
    "y"
   ]
  },
  {
   "cell_type": "code",
   "execution_count": 141,
   "id": "early-labor",
   "metadata": {},
   "outputs": [
    {
     "data": {
      "text/plain": [
       "<tf.Tensor: shape=(), dtype=float32, numpy=0.24321193>"
      ]
     },
     "execution_count": 141,
     "metadata": {},
     "output_type": "execute_result"
    }
   ],
   "source": [
    "x"
   ]
  },
  {
   "cell_type": "markdown",
   "id": "animated-occasion",
   "metadata": {},
   "source": [
    "### Plot"
   ]
  },
  {
   "cell_type": "code",
   "execution_count": 143,
   "id": "destroyed-lithuania",
   "metadata": {},
   "outputs": [],
   "source": [
    "import numpy as np\n",
    "import matplotlib.pyplot as plt\n",
    "import seaborn as sns\n",
    "sns.set()\n",
    "plt.rcParams[\"figure.figsize\"] = (15,10)\n",
    "%matplotlib inline"
   ]
  },
  {
   "cell_type": "code",
   "execution_count": 144,
   "id": "internal-beginning",
   "metadata": {},
   "outputs": [
    {
     "data": {
      "text/plain": [
       "<matplotlib.collections.PathCollection at 0x7f7290ed2390>"
      ]
     },
     "execution_count": 144,
     "metadata": {},
     "output_type": "execute_result"
    },
    {
     "data": {
      "image/png": "[encoded data removed]",
      "text/plain": [
       "<Figure size 432x288 with 1 Axes>"
      ]
     },
     "metadata": {
      "needs_background": "light"
     },
     "output_type": "display_data"
    }
   ],
   "source": [
    "plt.scatter(x_data, y_data, alpha=0.5)\n",
    "# plt.show()"
   ]
  },
  {
   "cell_type": "code",
   "execution_count": 146,
   "id": "approved-cisco",
   "metadata": {},
   "outputs": [
    {
     "data": {
      "text/plain": [
       "<tf.Tensor: shape=(), dtype=float32, numpy=100.23665>"
      ]
     },
     "execution_count": 146,
     "metadata": {},
     "output_type": "execute_result"
    }
   ],
   "source": [
    "y"
   ]
  },
  {
   "cell_type": "code",
   "execution_count": null,
   "id": "exposed-retrieval",
   "metadata": {},
   "outputs": [],
   "source": []
  }
 ],
 "metadata": {
  "kernelspec": {
   "display_name": "bert_keyword",
   "language": "python",
   "name": "bert_keyword"
  },
  "language_info": {
   "codemirror_mode": {
    "name": "ipython",
    "version": 3
   },
   "file_extension": ".py",
   "mimetype": "text/x-python",
   "name": "python",
   "nbconvert_exporter": "python",
   "pygments_lexer": "ipython3",
   "version": "3.7.9"
  }
 },
 "nbformat": 4,
 "nbformat_minor": 5
}
